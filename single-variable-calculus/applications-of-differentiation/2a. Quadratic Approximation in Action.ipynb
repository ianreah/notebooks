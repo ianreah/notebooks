{
 "cells": [
  {
   "cell_type": "markdown",
   "metadata": {},
   "source": [
    "You can apply quadratic approximation in exactly the same way as we demonstrated for linear approximation - i.e., by algebraically combining any of the reference approximations we've derived already and dropping any terms that are higher order than $x^2$.\n",
    "\n",
    "Let's do that for the same complicated function we used to illustrate this process for linear approximation...\n",
    "\n",
    "$f(x)=\\frac{e^{-3x}}{\\sqrt{1+x}}$\n",
    "\n",
    "$f(x)=e^{-3x}(1+x)^{-\\frac{1}{2}}$\n",
    "\n",
    "$e^{-3x}\\approx 1+u+\\frac{u^2}{2}$ ...where $u=-3x$\n",
    "\n",
    "$\\approx 1-3x+\\frac{9x^2}{2}$\n",
    "\n",
    "$(1+x)^{-\\frac{1}{2}}\\approx 1+rx+\\frac{r(r-1)}{2}x^2$ ...where $r=-\\frac{1}{2}$\n",
    "\n",
    "$\\approx 1-\\frac{1}{2}x+\\frac{3}{8}x^2$\n",
    "\n",
    "$f(x)\\approx (1-3x+\\frac{9x^2}{2})(1-\\frac{1}{2}x+\\frac{3}{8}x^2)$\n",
    "\n",
    "$\\approx 1-\\frac{1}{2}x+\\frac{3}{8}x^2-3x+\\frac{3}{2}x^2+\\frac{9x^2}{2}$ ...dropping terms higher order than $x^2$\n",
    "\n",
    "$\\approx 1-\\frac{7}{2}x+\\frac{51}{8}x^2$\n",
    "\n",
    "Which gives a better approximation than the linear approximation we came up with: $f(x)\\approx 1-\\frac{7}{2}x$, but at the price of having to calculate that extra term. In general, use quadratic approximation if you need the extra accuracy, otherwise stick with the simplicity of the linear approximation."
   ]
  },
  {
   "cell_type": "code",
   "execution_count": 3,
   "metadata": {
    "collapsed": false
   },
   "outputs": [
    {
     "data": {
      "image/png": "[encoded data removed]",
      "text/plain": [
       "<IPython.core.display.Image object>"
      ]
     },
     "metadata": {},
     "output_type": "display_data"
    }
   ],
   "source": [
    "x=[-0.2:0.01:0.2];\n",
    "y=exp(-3.*x)./sqrt(1+x);\n",
    "\n",
    "linear=1-7/2*x;\n",
    "quadratic=1-7/2*x+51/8*x.^2;\n",
    "\n",
    "plot(x,y,'LineWidth',2,x,linear,x,quadratic);\n",
    "set(gca, \"xaxislocation\", \"origin\");\n",
    "set(gca, \"yaxislocation\", \"origin\");\n",
    "set(gca, \"box\", \"off\");\n",
    "\n",
    "legend ({'original function','linear approximation','quadratic approximation'});\n",
    "legend boxoff;"
   ]
  }
 ],
 "metadata": {
  "kernelspec": {
   "display_name": "Octave",
   "language": "octave",
   "name": "octave"
  },
  "language_info": {
   "file_extension": ".m",
   "help_links": [
    {
     "text": "GNU Octave",
     "url": "https://www.gnu.org/software/octave/support.html"
    },
    {
     "text": "Octave Kernel",
     "url": "https://github.com/Calysto/octave_kernel"
    },
    {
     "text": "MetaKernel Magics",
     "url": "https://github.com/calysto/metakernel/blob/master/metakernel/magics/README.md"
    }
   ],
   "mimetype": "text/x-octave",
   "name": "octave",
   "version": "4.2.1"
  }
 },
 "nbformat": 4,
 "nbformat_minor": 2
}
