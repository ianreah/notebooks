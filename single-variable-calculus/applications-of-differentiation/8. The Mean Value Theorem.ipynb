{
 "cells": [
  {
   "cell_type": "markdown",
   "metadata": {},
   "source": [
    "## Colloquial statement of the theorem\n",
    "\n",
    "If you travel a distance of $d$ miles in $t$ hours then clearly your average speed is $\\frac{d}{t}$ mph. The mean value theorem says that at some point during your journey you will have been travelling at the average speed.\n",
    "\n",
    "## Description of the theorem\n",
    "\n",
    "In general, this is really saying that if you take the average slope between any two points on a function then there must be at least one point on the function between those points with an instantaneous slope with the same value as this average slope.\n",
    "\n",
    "## Mathematical statement of the theorem\n",
    "\n",
    "Call the two points $a$ and $b$, then the average slope between them is $\\frac{f(b)-f(a)}{b-a}$. The mean value theorem says there must be some other point $c$ ($a \\lt c \\lt b$) with the same instantaneous slope, i.e.,...\n",
    "\n",
    "$\\frac{f(b)-f(a)}{b-a}=f'(c)$\n",
    "\n",
    "Provided that:\n",
    "\n",
    "* $f$ is differentiable on $a \\lt x \\lt b$\n",
    "* $f$ is continuous on $a \\le x \\le b$\n",
    "\n",
    "## Geometrical proof\n",
    "\n",
    "If you draw the secant line between the two points on the function at $a$ and $b$ then the slope of this line is:\n",
    "\n",
    "$\\frac{f(b)-f(a)}{b-a}=f'(c)$\n",
    "\n",
    "Now, if we draw a line parallel to this (i.e., with the same slope) somewhere outside the function then move it back towards the secant line it will eventually touch the curve of the function. Call the value of the independent variable where it touches the curve $c$.\n",
    "\n",
    "Because we've stipulated that the function is differentiable on $a \\lt x \\lt b$ and continuous on $a \\le x \\le b$ then a line touching the function like this is a tangent line. Which, in other words, means its slope is the equivalent of the function's derivative at that point, i.e., $f'(c)$.\n",
    "\n",
    "![](img\\mvt-geometric-proof.png)\n",
    "\n",
    "Note: it may touch the curve of the function at multiple points at the same time, but that's ok - the theorem says that there must be at least one point...more than one point is acceptable.\n",
    "\n",
    "Also, in some cases, you may have to start the parallel line on the other side of the function to that shown above.\n",
    "\n",
    "\n",
    "## A consequence of the theorem\n",
    "\n",
    "The first thing we can apply the theorem to is to prove something we've seen before. When sketching graphs we used the sign of the first derivative of a function to determine where the function is increasing, decreasing or constant:\n",
    "\n",
    "* If $f' \\gt 0$ then $f$ is increasing\n",
    "* If $f' \\lt 0$ then $f$ is dercreasing\n",
    "* If $f'=0$ then $f$ is constant\n",
    "\n",
    "This probably sounds obvious and intuitive but it's still important to be able to *prove* it. We can do that now using the mean value theorem.\n",
    "\n",
    "First we rearrange the equation for the theorem:\n",
    "\n",
    "$\\frac{f(b)-f(a)}{b-a}=f'(c)$\n",
    "\n",
    "$f(b)-f(a)=f'(c)(b-a)$\n",
    "\n",
    "$f(b)=f(a)+f'(c)(b-a)$\n",
    "\n",
    "We can specify that $b \\gt a$. Because the theorem only specified \"any two points on the function\" then we can swap them round if we need to and the theorem still applies. So, if $b \\gt a$ then $(b-a)$ is positive. This means that the sign of the second term on the left, $f'(c)(b-a)$ is entirely determined by the sign of $f'(c)$. (It's $f'(c)$ multiplied by a positive number.)\n",
    "\n",
    "* If $f'(c)$ is positive, $f'(c)(b-a)$ is positive so $f(b) \\gt f(a)$. The function is increasing.\n",
    "* If $f'(c)$ is negative, $f'(c)(b-a)$ is negative so $f(b) \\lt f(a)$. The function is decreasing.\n",
    "* If $f'(c)=0$, $f'(c)(b-a)=0$ so $f(b)=f(a)$. The function is constant."
   ]
  }
 ],
 "metadata": {
  "anaconda-cloud": {},
  "kernelspec": {
   "display_name": "Octave",
   "language": "octave",
   "name": "octave"
  },
  "language_info": {
   "file_extension": ".m",
   "help_links": [
    {
     "text": "MetaKernel Magics",
     "url": "https://github.com/calysto/metakernel/blob/master/metakernel/magics/README.md"
    }
   ],
   "mimetype": "text/x-octave",
   "name": "octave",
   "version": "0.16.0"
  }
 },
 "nbformat": 4,
 "nbformat_minor": 2
}
