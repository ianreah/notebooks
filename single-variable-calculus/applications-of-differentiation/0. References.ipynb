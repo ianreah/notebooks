{
 "cells": [
  {
   "cell_type": "markdown",
   "metadata": {},
   "source": [
    "## Determine whether a function is odd or even (or neither)\n",
    "\n",
    "See [here](https://en.wikipedia.org/wiki/Even_and_odd_functions).\n",
    "\n",
    "* Take the original function and plug $–x$ in for $x$\n",
    "* Simplify.\n",
    "* Compare the resulting function with the original function:\n",
    "  * Do you end up with the exact same function that you started with (that is, if f (–x) = f (x), so all of the signs are the same)? Then the function is even.\n",
    "  * Do you end up with the exact opposite of what you started with (that is, if f (–x) = –f (x), so all of the signs are switched), then the function is odd.\n",
    "  * Otherwise the function is \"neither even nor odd\"."
   ]
  }
 ],
 "metadata": {
  "kernelspec": {
   "display_name": "Octave",
   "language": "octave",
   "name": "octave"
  },
  "language_info": {
   "file_extension": ".m",
   "help_links": [
    {
     "text": "GNU Octave",
     "url": "https://www.gnu.org/software/octave/support.html"
    },
    {
     "text": "Octave Kernel",
     "url": "https://github.com/Calysto/octave_kernel"
    },
    {
     "text": "MetaKernel Magics",
     "url": "https://github.com/calysto/metakernel/blob/master/metakernel/magics/README.md"
    }
   ],
   "mimetype": "text/x-octave",
   "name": "octave",
   "version": "4.2.1"
  }
 },
 "nbformat": 4,
 "nbformat_minor": 2
}
