{
 "cells": [
  {
   "cell_type": "markdown",
   "metadata": {},
   "source": [
    "## How calculus can help\n",
    "\n",
    "* Consider the first derivative. Look for ranges where the derivative is positive/negative.\n",
    "  * When $f'$ is positive $\\implies$ $f$ is increasing (it has a positive slope)\n",
    "  * When $f'$ is negative $\\implies$ $f$ is decreasing (it has a negative slope)\n",
    "* Consider the second derivative. Look for ranges where the second derivative is positive/negative as this gives us similar information about the change in the slope.\n",
    "  * When $f''$ is positive $\\implies$ $f'$ is increasing $\\implies$ $f$ is *'[concave up](#Concave-up)'*\n",
    "  * When $f''$ is negative $\\implies$ $f'$ is decreasing $\\implies$ $f$ is *'[concave down](#Concave-down)'*\n",
    "  \n",
    "### Concave up"
   ]
  },
  {
   "cell_type": "code",
   "execution_count": 9,
   "metadata": {
    "collapsed": false
   },
   "outputs": [
    {
     "data": {
      "image/png": "[encoded data removed]",
      "text/plain": [
       "<IPython.core.display.Image object>"
      ]
     },
     "metadata": {},
     "output_type": "display_data"
    }
   ],
   "source": [
    "x = [0:0.1:10];\n",
    "f = 2*x.^2-8*x+29;\n",
    "\n",
    "# f'=4x-8 => f is increasing when x > 2 and decreasing when x < 2\n",
    "# f''=4 => f is 'concave up'\n",
    "\n",
    "plot(x,f);\n",
    "set(gca, \"ylim\", [0 160]);\n",
    "set(gca, \"box\", \"off\");"
   ]
  },
  {
   "cell_type": "markdown",
   "metadata": {},
   "source": [
    "## Concave down"
   ]
  },
  {
   "cell_type": "code",
   "execution_count": 15,
   "metadata": {
    "collapsed": false,
    "scrolled": false
   },
   "outputs": [
    {
     "data": {
      "image/png": "[encoded data removed]",
      "text/plain": [
       "<IPython.core.display.Image object>"
      ]
     },
     "metadata": {},
     "output_type": "display_data"
    }
   ],
   "source": [
    "x = [0:0.1:10];\n",
    "f = -3*x.^2+6*x+42;\n",
    "\n",
    "# f'=-6x+6 => f is decreasing when x > 1 and increasing when x < 1\n",
    "# f''=-6 => f is 'concave down'\n",
    "\n",
    "plot(x,f);"
   ]
  },
  {
   "cell_type": "markdown",
   "metadata": {},
   "source": [
    "## A General Process\n",
    "\n",
    "The problem is that the approach to sketching graphs is really just a combination of:\n",
    "\n",
    "* using information from the first and second derivatives as described above\n",
    "* using some \"pre-calculus\" information (e.g., is it odd/even?)\n",
    "* using some \"common sense\" (e.g., \"I can tell that it goes through the origin\").\n",
    "\n",
    "...so it's quite difficult to find a general process that would work in every case, but maybe it would be something like this:\n",
    "\n",
    "1. Start with a blank axis. It might help to mark lightly on the plot some of the information we find out below.\n",
    "1. Is there anywhere the function is undefined? If it's a log or square-root function then the input must be positive. If it's a rational function then the denominator can't be 0 (this creates vertical asymptotes).\n",
    "1. Consider the \"end behaviour\" (as $x \\to \\infty$ and $x \\to -\\infty$). This creates horizontal asymptotes.\n",
    "1. Look at the sign of the function and note where its sign changes.\n",
    "1. Using information from the first derivative determine where the function is increasing/decreasing. Places where the first derivative is 0 give maximum or minimum values of the function.\n",
    "1. Use information from the second derivative to determine the shape of the curve between the critical points. Also, consider where the second derivative is 0 to determine where the shape changes.\n",
    "1. Consider any other \"important\" points and plot them (e.g., the behaviour around any asymptotes)\n",
    "1. Is the function [even/odd](0.%20References.ipynb#Determine-whether-a-function-is-odd-or-even-%28or-neither%29)? Make sure what you've drawn so far fits with this."
   ]
  }
 ],
 "metadata": {
  "kernelspec": {
   "display_name": "Octave",
   "language": "octave",
   "name": "octave"
  },
  "language_info": {
   "file_extension": ".m",
   "help_links": [
    {
     "text": "GNU Octave",
     "url": "https://www.gnu.org/software/octave/support.html"
    },
    {
     "text": "Octave Kernel",
     "url": "https://github.com/Calysto/octave_kernel"
    },
    {
     "text": "MetaKernel Magics",
     "url": "https://github.com/calysto/metakernel/blob/master/metakernel/magics/README.md"
    }
   ],
   "mimetype": "text/x-octave",
   "name": "octave",
   "version": "4.2.1"
  }
 },
 "nbformat": 4,
 "nbformat_minor": 2
}
