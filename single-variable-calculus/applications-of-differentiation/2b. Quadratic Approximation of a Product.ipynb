{
 "cells": [
  {
   "cell_type": "markdown",
   "metadata": {},
   "source": [
    "In the worked example of quadratic approximation we said you can calculate the quadratic approximation of a complicated function by combining quadratic approximations of the individual parts of the formula that we already know the approximation for.\n",
    "\n",
    "In the specific example we used the product of two separate approximations. But how do we know this is a valid thing to do? Well, let's prove it...\n",
    "\n",
    "$Q(f.g)=Q(Q(f).Q(g))$\n",
    "\n",
    "...where $Q$ means the quadratic approximation. So we want to prove that the quadratic approximation of the product of two functions is the same as the quadratic approximation of the product of each function's quadratic approximation.\n",
    "\n",
    "$Q(f)=f(x_0)+f'(x_0)(x-x_0)+\\frac{f''(x_0)}{2}(x-x_0)^2$\n",
    "\n",
    "$Q(g)=g(x_0)+g'(x_0)(x-x_0)+\\frac{g''(x_0)}{2}(x-x_0)^2$\n",
    "\n",
    "What do we get if we multiply those together? This is going to get hairy! Let's take our time...\n",
    "\n",
    "$Q(f).Q(g)=f(x_0)(g(x_0)+g'(x_0)(x-x_0)+\\frac{g''(x_0)}{2}(x-x_0)^2)$\n",
    "\n",
    "$+f'(x_0)(x-x_0)(g(x_0)+g'(x_0)(x-x_0)+\\frac{g''(x_0)}{2}(x-x_0)^2)$\n",
    "\n",
    "$+\\frac{f''(x_0)}{2}(x-x_0)^2(g(x_0)+g'(x_0)(x-x_0)+\\frac{g''(x_0)}{2}(x-x_0)^2)$\n",
    "\n",
    "$Q(f).Q(g)=f(x_0)g(x_0)$ ...constant term\n",
    "\n",
    "$+f(x_0)g'(x_0)(x-x_0)+f'(x_0)g(x_0)(x-x_0)$ ...linear terms\n",
    "\n",
    "$+f(x_0)\\frac{g''(x_0)}{2}(x-x_0)^2+f'(x_0)g'(x_0)(x-x_0)^2+\\frac{f''(x_0)}{2}g(x_0)(x-x_0)^2$ ...quadratic terms\n",
    "\n",
    "$+f'(x_0)\\frac{g''(x_0)}{2}(x-x_0)^3+\\frac{f''(x_0)}{2}g'(x_0)(x-x_0)^3$ ...cubic terms\n",
    "\n",
    "$+\\frac{f''(x_0)}{2}\\frac{g''(x_0)}{2}(x-x_0)^4$ ...quartic term\n",
    "\n",
    "BUT, when we take the quadratic approximation, i.e., $Q(Q(f).Q(g))$, it's safe to drop the cubic and quartic terms.\n",
    "\n",
    "$Q(Q(f).Q(g))=f(x_0)g(x_0)+f(x_0)g'(x_0)(x-x_0)+f'(x_0)g(x_0)(x-x_0)+f(x_0)\\frac{g''(x_0)}{2}(x-x_0)^2+f'(x_0)g'(x_0)(x-x_0)^2+\\frac{f''(x_0)}{2}g(x_0)(x-x_0)^2$\n",
    "\n",
    "Now, hopefully, if we take the quadratic approximation of the product directly we should end up with the same answer. Let's introduct a new function, $h$, just to help us work through it methodically...\n",
    "\n",
    "$h(x)=f(x)g(x)$\n",
    "\n",
    "$Q(h)=h(x_0)+h'(x_0)(x-x_0)+\\frac{h''(x_0)}{2}(x-x_0)^2$\n",
    "\n",
    "Now:\n",
    "\n",
    "$h(x_0)=f(x_0)g(x_0)$\n",
    "\n",
    "$h'(x_0)=f'(x_0)g(x_0)+f(x_0)g'(x_0)$ (...product rule)\n",
    "\n",
    "$h''(x_0)=f''(x_0)g(x_0)+f'(x_0)g'(x_0)+f'(x_0)g'(x_0)+f(x_0)g''(x_0)$ (...product and sum rules)\n",
    "\n",
    "$h''(x_0)=f''(x_0)g(x_0)+2f'(x_0)g'(x_0)+f(x_0)g''(x_0)$\n",
    "\n",
    "So, if we substitute those in to our formula for $Q(h)$ we get...\n",
    "\n",
    "$Q(h)=f(x_0)g(x_0)+(f'(x_0)g(x_0)+f(x_0)g'(x_0))(x-x_0)+\\frac{f''(x_0)g(x_0)+2f'(x_0)g'(x_0)+f(x_0)g''(x_0)}{2}(x-x_0)^2$\n",
    "\n",
    "$=f(x_0)g(x_0)+f(x_0)g'(x_0)(x-x_0)+f'(x_0)g(x_0)(x-x_0)+\\frac{f''(x_0)g(x_0)}{2}(x-x_0)^2+f'(x_0)g'(x_0)(x-x_0)^2+\\frac{f(x_0)g''(x_0)}{2}(x-x_0)^2$\n",
    "\n",
    "Which, if you stare at it closely enough, you can see is the same terms we ended up with when calculating $Q(Q(f).Q(g))$. So, it is correct to take the product of the individual approximations."
   ]
  }
 ],
 "metadata": {
  "kernelspec": {
   "display_name": "Octave",
   "language": "octave",
   "name": "octave"
  },
  "language_info": {
   "file_extension": ".m",
   "help_links": [
    {
     "text": "GNU Octave",
     "url": "https://www.gnu.org/software/octave/support.html"
    },
    {
     "text": "Octave Kernel",
     "url": "https://github.com/Calysto/octave_kernel"
    },
    {
     "text": "MetaKernel Magics",
     "url": "https://github.com/calysto/metakernel/blob/master/metakernel/magics/README.md"
    }
   ],
   "mimetype": "text/x-octave",
   "name": "octave",
   "version": "4.2.1"
  }
 },
 "nbformat": 4,
 "nbformat_minor": 2
}
