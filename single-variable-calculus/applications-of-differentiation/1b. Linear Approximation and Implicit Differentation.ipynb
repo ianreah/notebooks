{
 "cells": [
  {
   "cell_type": "markdown",
   "metadata": {},
   "source": [
    "The function $w(x)$ is defined implicitly by the equation:\n",
    "\n",
    "$(w(x)+1)e^{w(x)}=x$\n",
    "\n",
    "Use a linear approximation to estimate $w(\\frac{3}{2})$.\n",
    "\n",
    "Hint: $w(1)=0$\n",
    "\n",
    "---\n",
    "\n",
    "$w(x)\\approx w'(1)(x-1)+w(1)$ ...when $x\\approx 1$\n",
    "\n",
    "$\\approx w'(1)(x-1)$ (because $w(1)=0$)\n",
    "\n",
    "So we need to find $w'(1)$ and for that we need to use implicit differentiation with the original equation:\n",
    "\n",
    "$(w(x)+1)e^{w(x)}=x$\n",
    "\n",
    "$\\frac{d}{dx}((w(x)+1)e^{w(x)})=\\frac{d}{dx}x$\n",
    "\n",
    "$w'(x)e^{w(x)}+(w(x)+1)e^{w(x)}w'(x)=1$\n",
    "\n",
    "$w'(x)(e^{w(x)}+(w(x)+1)e^{w(x)})=1$\n",
    "\n",
    "$w'(x)(e^{w(x)}+x)=1$\n",
    "\n",
    "$w'(x)=\\frac{1}{e^{w(x)}+x}$\n",
    "\n",
    "$w'(1)=\\frac{1}{e^{0}+1}=\\frac{1}{2}$\n",
    "\n",
    "So:\n",
    "\n",
    "$w(x)\\approx \\frac{1}{2}(x-1)$\n",
    "\n",
    "$w(\\frac{3}{2})\\approx \\frac{1}{2}(\\frac{3}{2}-1)\\approx\\frac{1}{4}$"
   ]
  }
 ],
 "metadata": {
  "kernelspec": {
   "display_name": "Octave",
   "language": "octave",
   "name": "octave"
  },
  "language_info": {
   "file_extension": ".m",
   "help_links": [
    {
     "text": "GNU Octave",
     "url": "https://www.gnu.org/software/octave/support.html"
    },
    {
     "text": "Octave Kernel",
     "url": "https://github.com/Calysto/octave_kernel"
    },
    {
     "text": "MetaKernel Magics",
     "url": "https://github.com/calysto/metakernel/blob/master/metakernel/magics/README.md"
    }
   ],
   "mimetype": "text/x-octave",
   "name": "octave",
   "version": "4.2.1"
  }
 },
 "nbformat": 4,
 "nbformat_minor": 2
}
