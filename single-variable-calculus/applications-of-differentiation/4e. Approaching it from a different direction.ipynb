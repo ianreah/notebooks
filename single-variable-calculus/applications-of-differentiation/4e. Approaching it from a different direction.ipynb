{
 "cells": [
  {
   "cell_type": "markdown",
   "metadata": {
    "collapsed": true
   },
   "source": [
    "Instead of having a defined function and sketching it, suppose you're given a function with some unspecified co-efficients and you want to chose values for the co-efficients that create a graph with specified characteristics. We can do this using some of the graph sketching principles we've learnt...\n",
    "\n",
    "For example, find coefficient values for $a$, $b$, $c$ and $d$ for a polynomial function:\n",
    "\n",
    "$f(x)=ax^3+bx^2+cx+d$\n",
    "\n",
    "whose graph is:\n",
    "\n",
    "* convex (smile shaped) for $x \\lt 2$\n",
    "* concave (frown shaped) for $x \\gt 2$\n",
    "* falling when $x \\lt 1$\n",
    "* rising when $1 \\lt x \\lt 3$\n",
    "* falling when $x \\gt 3$\n",
    "\n",
    "We can start by choosing a function for the second derivative that gives the desired concave/convex characteristics...\n",
    "\n",
    "* convex (smile shaped) for $x \\lt 2$ (i.e., second derivative is positive for $x \\lt 2$)\n",
    "* concave (frown shaped) for $x \\gt 2$ (i.e., second derivative is negative for $x \\gt 2$)\n",
    "\n",
    "...and work back to the original function by taking anti-derivatives.\n",
    "\n",
    "If you find the second derivative of the original function you'll see you end up with a linear function...\n",
    "\n",
    "$f(x)=ax^3+bx^2+cx+d$\n",
    "\n",
    "$f'(x)=3ax^2+2bx+c$\n",
    "\n",
    "$f''(x)=6ax+2b$\n",
    "\n",
    "...so we'll need a linear function that is $0$ at $x=2$ and with a negative gradient (to make sure it's positive to the left and negative to the right of that point).\n",
    "\n",
    "Let's choose a gradient of $-1$ to keep it simple...\n",
    "\n",
    "$y=-x+c$\n",
    "\n",
    "...then solve to find the constant $c$ such that $y=0$ when $x=2$...\n",
    "\n",
    "$0=-2+c$\n",
    "\n",
    "$-c=-2$\n",
    "\n",
    "$c=2$\n",
    "\n",
    "$f''(x)=-x+2$\n",
    "\n",
    "Take the antiderivative to find $f'(x)$...\n",
    "\n",
    "$f''(x)=-x+2$\n",
    "\n",
    "$f'(x)=-\\frac{1}{2}x^2+2x+c$\n",
    "\n",
    "Now find a value for $c$ that will give the desired falling/rising characteristics...\n",
    "\n",
    "* falling when $x \\lt 1$ (i.e., first derivative is negative when $x \\lt 1$)\n",
    "* rising when $1 \\lt x \\lt 3$ (i.e., first derivative is positive when $1\\lt x \\lt 3$)\n",
    "* falling when $x \\gt 3$ (i.e., first derivative is negative when $x \\gt 1$)\n",
    "\n",
    "$f'(1)=0$\n",
    "\n",
    "$-\\frac{1}{2}(1)^2+2(1)+c=0$\n",
    "\n",
    "$-\\frac{1}{2}+2=-c$\n",
    "\n",
    "$\\frac{3}{2}=-c$\n",
    "\n",
    "$c=-\\frac{3}{2}$\n",
    "\n",
    "(Thankfully you'll get the same if you plug-in $x=3$)\n",
    "\n",
    "$f'(x)=-\\frac{1}{2}x^2+2x-\\frac{3}{2}$\n",
    "\n",
    "Finally, take the antiderivative again to find $f(x)$...\n",
    "\n",
    "$f'(x)=-\\frac{1}{2}x^2+2x-\\frac{3}{2}$\n",
    "\n",
    "$f(x)=-\\frac{1}{6}x^3+x^2-\\frac{3}{2}x+d$\n",
    "\n",
    "Oh - well not quite finally...we need to choose a value for $d$ but that has no effect on the desired characteristics of the curve so we can make it anything - even $0$."
   ]
  },
  {
   "cell_type": "code",
   "execution_count": 6,
   "metadata": {
    "collapsed": false
   },
   "outputs": [
    {
     "data": {
      "image/png": "[encoded data removed]",
      "text/plain": [
       "<IPython.core.display.Image object>"
      ]
     },
     "metadata": {},
     "output_type": "display_data"
    }
   ],
   "source": [
    "x=[-1:0.01:5];\n",
    "y=-x.^3./6+x.^2-3.*x./2+0;\n",
    "\n",
    "plot(x,y,'LineWidth',2);\n",
    "set(gca, \"xaxislocation\", \"origin\");\n",
    "set(gca, \"yaxislocation\", \"origin\");\n",
    "set(gca, \"box\", \"off\");\n"
   ]
  }
 ],
 "metadata": {
  "kernelspec": {
   "display_name": "Octave",
   "language": "octave",
   "name": "octave"
  },
  "language_info": {
   "file_extension": ".m",
   "help_links": [
    {
     "text": "GNU Octave",
     "url": "https://www.gnu.org/software/octave/support.html"
    },
    {
     "text": "Octave Kernel",
     "url": "https://github.com/Calysto/octave_kernel"
    },
    {
     "text": "MetaKernel Magics",
     "url": "https://github.com/calysto/metakernel/blob/master/metakernel/magics/README.md"
    }
   ],
   "mimetype": "text/x-octave",
   "name": "octave",
   "version": "4.2.1"
  }
 },
 "nbformat": 4,
 "nbformat_minor": 2
}
