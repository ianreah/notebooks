{
 "cells": [
  {
   "cell_type": "markdown",
   "metadata": {},
   "source": [
    "Show that $e^x \\gt 1+x$ for $x \\gt 0$\n",
    "\n",
    "We can prove this by using the mean value theorem to show that $f(x)=e^x-(1+x)$ is always positive\n",
    "\n",
    "$f(0)=e^0-(1+0)=0$\n",
    "\n",
    "$f'(x)=e^x-1$\n",
    "\n",
    "When $x \\gt 0$, $e^x \\gt 1$ so $f'(x)$ is positive.\n",
    "\n",
    "The mean value theorem tells us that if $f'(x)$ is positive then the function is increasing.\n",
    "\n",
    "The above shows that the function starts with a value of $0$ for $x=0$ and then increases for $x \\gt 0$, i.e.,...\n",
    "\n",
    "$f(x) \\gt f(0)$ for $x \\gt 0$\n",
    "\n",
    "$e^x-(1+x) \\gt 0$ for $x \\gt 0$\n",
    "\n",
    "$e^x \\gt 1+x$ for $x \\gt 0$\n",
    "\n",
    "---\n",
    "\n",
    "Show that $e^x \\gt 1+x+\\frac{x^2}{2}$ for $x \\gt 0$\n",
    "\n",
    "$g(x)=e^x-(1+x+\\frac{x^2}{2})$\n",
    "\n",
    "$=e^x-1-x-\\frac{x^2}{2}$\n",
    "\n",
    "$g(0)=e^0-1-0-\\frac{0^2}{2}=0$\n",
    "\n",
    "$g'(x)=e^x-1-\\frac{2x}{2}$\n",
    "\n",
    "$=e^x-1-x$\n",
    "\n",
    "$=e^x-(1+x)$\n",
    "\n",
    "...which we've already proved is positive for $x \\gt 0$. Again, $g'(x)$ is positive (for $x \\gt 0$) so the function is increasing from $g(0)=0$...\n",
    "\n",
    "$g(x) \\gt g(0)$ for $x \\gt 0$\n",
    "\n",
    "$e^x-(1+x+\\frac{x^2}{2}) \\gt 0$ for $x \\gt 0$\n",
    "\n",
    "$e^x \\gt 1+x+\\frac{x^2}{2}$ for $x \\gt 0$\n"
   ]
  }
 ],
 "metadata": {
  "kernelspec": {
   "display_name": "Octave",
   "language": "octave",
   "name": "octave"
  },
  "language_info": {
   "file_extension": ".m",
   "help_links": [
    {
     "text": "GNU Octave",
     "url": "https://www.gnu.org/software/octave/support.html"
    },
    {
     "text": "Octave Kernel",
     "url": "https://github.com/Calysto/octave_kernel"
    },
    {
     "text": "MetaKernel Magics",
     "url": "https://github.com/calysto/metakernel/blob/master/metakernel/magics/README.md"
    }
   ],
   "mimetype": "text/x-octave",
   "name": "octave",
   "version": "4.2.1"
  }
 },
 "nbformat": 4,
 "nbformat_minor": 2
}
