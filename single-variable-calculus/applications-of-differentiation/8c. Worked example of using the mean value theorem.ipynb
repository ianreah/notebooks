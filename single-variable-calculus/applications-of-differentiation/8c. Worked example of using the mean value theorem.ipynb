{
 "cells": [
  {
   "cell_type": "markdown",
   "metadata": {},
   "source": [
    "Show that:\n",
    "\n",
    "$\\tan x \\gt x$\n",
    "\n",
    "...for $0 \\lt x \\lt \\frac{\\pi}{2}$\n",
    "\n",
    "---"
   ]
  },
  {
   "cell_type": "markdown",
   "metadata": {},
   "source": [
    "First, get the mean value theorem in a form that will be useful to this problem:\n",
    "\n",
    "$\\frac{f(b)-f(a)}{b-a}=f'(c)$\n",
    "\n",
    "$f(b)-f(a)=f'(c)(b-a)$\n",
    "\n",
    "$f(b)=f(a)+f'(c)(b-a)$\n",
    "\n",
    "So, to apply it to the problem we'd say:\n",
    "\n",
    "* $f(x)=\\tan x$\n",
    "* We're interested in the interval $0 \\lt x \\lt \\frac{\\pi}{2}$ so we'd set our first point $a=0$ and let $b$ be any value within that interval.\n",
    "* The mean value theorem says that $a \\lt c \\lt b$, i.e., $0 \\lt c \\lt \\frac{\\pi}{2}$\n",
    "\n",
    "Before we proceed any further, it's important to be sure that it's safe to apply the mean value theorem in this situation. The mean value theorem only applies if:\n",
    "\n",
    "* $f(x)$ is differentiable on $a \\lt x \\lt b$\n",
    "* $f(x)$ is continuous on $a \\le x \\le b$\n",
    "\n",
    "...this is true for $f(x)=\\tan x$ and the values of $a$ and $b$ chosen above.\n",
    "\n",
    "The next thing we need is the derivative:\n",
    "\n",
    "$f(x)=\\tan x$\n",
    "\n",
    "$f'(x)=\\sec^2 x$\n",
    "\n",
    "So now let's plug the values in:\n",
    "\n",
    "$f(b)=f(a)+f'(c)(b-a)$\n",
    "\n",
    "$=0+(\\sec^2 c)(b-0)$\n",
    "\n",
    "$=(\\sec^2 c)b$\n",
    "\n",
    "We know $0 \\lt b \\lt \\frac{\\pi}{2}$ and $0 \\lt c \\lt \\frac{\\pi}{2}$. Let's think about what $\\sec^2 c$ looks like over that interval. (Remember: $\\sec x=\\frac{1}{\\cos x}$)"
   ]
  },
  {
   "cell_type": "code",
   "execution_count": 3,
   "metadata": {
    "collapsed": false
   },
   "outputs": [
    {
     "data": {
      "image/png": "[encoded data removed]",
      "text/plain": [
       "<IPython.core.display.Image object>"
      ]
     },
     "metadata": {},
     "output_type": "display_data"
    }
   ],
   "source": [
    "c=[0:0.01:pi/2];\n",
    "cosc=cos(c);\n",
    "\n",
    "plot(c,cosc,'LineWidth',3);\n",
    "set(gca,'xtick',[-2*pi:pi/2:2*pi])\n",
    "set(gca,'xticklabel',{'-2pi','-3pi/2','-pi','-pi/2','0', 'pi/2', 'pi', '3pi/2', '2pi'})\n",
    "set(gca, \"box\", \"off\");"
   ]
  },
  {
   "cell_type": "markdown",
   "metadata": {},
   "source": [
    "$0 \\lt \\cos x \\lt 1$ (for $0 \\lt x \\lt \\frac{\\pi}{2}$)\n",
    "\n",
    "$1 \\lt \\frac{1}{\\cos x} \\lt \\infty$ (for $0 \\lt x \\lt \\frac{\\pi}{2}$)\n",
    "\n",
    "$1 \\lt \\sec x \\lt \\infty$ (for $0 \\lt x \\lt \\frac{\\pi}{2}$)\n",
    "\n",
    "$1 \\lt \\sec^2 x \\lt \\infty$ (for $0 \\lt x \\lt \\frac{\\pi}{2}$)\n",
    "\n",
    "So from the above application of the mean value theorem:\n",
    "\n",
    "$f(b)=(\\sec^2 c)b$\n",
    "\n",
    "or...\n",
    "\n",
    "$f(x)=(\\sec^2 c)x$\n",
    "\n",
    "$\\tan x=(\\sec^2 c)x$\n",
    "\n",
    "and $\\sec^2 c \\gt 1$ so\n",
    "\n",
    "$\\tan x \\gt x$ (for $0 \\lt x \\lt \\frac{\\pi}{2}$)"
   ]
  }
 ],
 "metadata": {
  "kernelspec": {
   "display_name": "Octave",
   "language": "octave",
   "name": "octave"
  },
  "language_info": {
   "file_extension": ".m",
   "help_links": [
    {
     "text": "GNU Octave",
     "url": "https://www.gnu.org/software/octave/support.html"
    },
    {
     "text": "Octave Kernel",
     "url": "https://github.com/Calysto/octave_kernel"
    },
    {
     "text": "MetaKernel Magics",
     "url": "https://github.com/calysto/metakernel/blob/master/metakernel/magics/README.md"
    }
   ],
   "mimetype": "text/x-octave",
   "name": "octave",
   "version": "4.2.1"
  }
 },
 "nbformat": 4,
 "nbformat_minor": 2
}
