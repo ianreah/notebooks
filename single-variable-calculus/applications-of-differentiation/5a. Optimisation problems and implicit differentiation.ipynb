{
 "cells": [
  {
   "cell_type": "markdown",
   "metadata": {},
   "source": [
    "Using implicit differentiation can often be a quicker/easier way to solve optimisation problems, and (as the example below will show) can get you straight to a \"nicer\" form of the answer. The disadvantage is that it only gets you the critical points so if you need to check the end behaviour &/or disconinuities it might not save you that much time. In some cases though you don't need to check the end behaviour (e.g., it's obvious that the ends are not the minimum/maximum points)."
   ]
  },
  {
   "cell_type": "markdown",
   "metadata": {},
   "source": [
    "## An Example\n",
    "\n",
    "Find the box (without a top) with least surface area for a fixed volume. We're told in advance that the best box has a square bottom. This just gives us one fewer variable to worry about so makes things quite a bit simpler.\n",
    "\n",
    "Let's start by visualising the problem and determining the formulae involved (we'll need this for both solutions)...\n",
    "\n",
    "![](img\\box.png)\n",
    "\n",
    "$V=x^2y$\n",
    "\n",
    "$A=x^2+4xy$ (remember the box doesn't have a top!)"
   ]
  },
  {
   "cell_type": "markdown",
   "metadata": {},
   "source": [
    "### Solution without implicit differentiation\n",
    "\n",
    "So the formula we need to optimise is $A$ with the constraint that we're given a fixed volume, $V$. This effectively reduces the formula to a single variable. If we choose $x$ to be the variable then $y$ must be chosen to make the correct volume, $V$.\n",
    "\n",
    "$V=x^2y$\n",
    "\n",
    "$y=\\frac{V}{x^2}$\n",
    "\n",
    "$A(x)=x^2+4x\\frac{V}{x^2}$\n",
    "\n",
    "$=x^2+4\\frac{V}{x}$\n",
    "\n",
    "Find the critical points:\n",
    "\n",
    "$A(x)=x^2+\\frac{4V}{x}$\n",
    "\n",
    "$A'(x)=2x-\\frac{4V}{x^2}$\n",
    "\n",
    "$2x-\\frac{4V}{x^2}=0$\n",
    "\n",
    "$2x=\\frac{4V}{x^2}$\n",
    "\n",
    "$x=\\frac{2V}{x^2}$\n",
    "\n",
    "$x^3=2V$\n",
    "\n",
    "$x=(2V)^{\\frac{1}{3}}=2^{\\frac{1}{3}}V^{\\frac{1}{3}}$\n",
    "\n",
    "Consider the end behaviour:\n",
    "\n",
    "$x$ must be $\\gt 0$ (we can't have a box with negative dimensions), but (in theory) could be $\\infty$!\n",
    "\n",
    "$A(0^+)=(0^+)^2+\\frac{4V}{0^+} \\to \\infty$\n",
    "\n",
    "$A(\\infty)=(\\infty)^2+\\frac{4V}{\\infty} \\to \\infty$\n",
    "\n",
    "There are no points of discontinuity between $0 \\lt x \\lt \\infty$, the end points both $\\to \\infty$ and the value at the critical point is less than $\\infty$, so the critical point gives us the least surface area.\n",
    "\n",
    "To answer the question we need to give the dimensions of the box that gives this least surface area:\n",
    "\n",
    "$x=2^{\\frac{1}{3}}V^{\\frac{1}{3}}$\n",
    "\n",
    "$y=\\frac{V}{x^2}$\n",
    "\n",
    "$=\\frac{V}{(2^{\\frac{1}{3}}V^{\\frac{1}{3}})^2}$\n",
    "\n",
    "$=\\frac{V}{2^{\\frac{2}{3}}V^{\\frac{2}{3}}}$\n",
    "\n",
    "$=V(2^{-\\frac{2}{3}}V^{-\\frac{2}{3}})$\n",
    "\n",
    "$=2^{-\\frac{2}{3}}V^{\\frac{1}{3}}$\n",
    "\n",
    "...which is a bit of a cumbersome answer. We could look at the ratio between the two dimensions:\n",
    "\n",
    "$\\frac{x}{y}=\\frac{2^{\\frac{1}{3}}V^{\\frac{1}{3}}}{2^{-\\frac{2}{3}}V^{\\frac{1}{3}}}$\n",
    "\n",
    "$=\\frac{2^{\\frac{1}{3}}}{2^{-\\frac{2}{3}}}$\n",
    "\n",
    "$=2^{\\frac{1}{3}}2^{\\frac{2}{3}}$\n",
    "\n",
    "$=2$\n",
    "\n",
    "...which gives us a much nicer way to express the solution, i.e., *the box with the smallest surface area for a given volume will have a base that is twice its height.*"
   ]
  },
  {
   "cell_type": "markdown",
   "metadata": {},
   "source": [
    "### Solution with implicit differentiation\n",
    "\n",
    "Starting with the same two formulae we can see that $y$ is implicitly a function of $x$. This means we can differentiate them both immediately using implicit differentation instead of rearranging and substituting like we did before...\n",
    "\n",
    "$V=x^2y$\n",
    "\n",
    "$0=2xy+x^2y'$\n",
    "\n",
    "$x^2y'=-2xy$\n",
    "\n",
    "$y'=\\frac{-2xy}{x^2}=-\\frac{2y}{x}$\n",
    "\n",
    "$A=x^2+4xy$\n",
    "\n",
    "$\\frac{dA}{dx}=2x+4y+4xy'$\n",
    "\n",
    "$=2x+4y+4x(-\\frac{2y}{x})$ (substituting for $y'$)\n",
    "\n",
    "$=2x+4y-8y$\n",
    "\n",
    "$=2x-4y$\n",
    "\n",
    "To find the critical points:\n",
    "\n",
    "$2x-4y=0$\n",
    "\n",
    "$2x=4y$\n",
    "\n",
    "$x=2y$\n",
    "\n",
    "Make your own conclusions about which method is quicker/easier, but at least this got us straight to the nicer solution that *the box with the smallest surface area for a given volume will have a base that is twice its height.*\n",
    "\n",
    "Note: we didn't check the ends or discontinuities, so we would still have to do that the same way - but (as we said in the introduction) it can be much quicker if you know you don't need to worry about those."
   ]
  }
 ],
 "metadata": {
  "kernelspec": {
   "display_name": "Octave",
   "language": "octave",
   "name": "octave"
  },
  "language_info": {
   "file_extension": ".m",
   "help_links": [
    {
     "text": "GNU Octave",
     "url": "https://www.gnu.org/software/octave/support.html"
    },
    {
     "text": "Octave Kernel",
     "url": "https://github.com/Calysto/octave_kernel"
    },
    {
     "text": "MetaKernel Magics",
     "url": "https://github.com/calysto/metakernel/blob/master/metakernel/magics/README.md"
    }
   ],
   "mimetype": "text/x-octave",
   "name": "octave",
   "version": "4.2.1"
  }
 },
 "nbformat": 4,
 "nbformat_minor": 2
}
