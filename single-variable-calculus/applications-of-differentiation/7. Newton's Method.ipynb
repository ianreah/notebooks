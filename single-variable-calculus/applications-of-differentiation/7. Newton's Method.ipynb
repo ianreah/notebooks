{
 "cells": [
  {
   "cell_type": "markdown",
   "metadata": {},
   "source": [
    "## What is it?\n",
    "\n",
    "Newton's method is an iterative method for refining an estimate of the solution to an equation.\n",
    "\n",
    "## How it works\n",
    "\n",
    "It works by re-arranging the equation you're trying to solve so that it's expressed in terms of something that equals $0$. It then represents the left-hand side of that equality as a function of the unknown, $f(x)$, and aims to find the value of $x$ such that $f(x)=0$. It does this using the following iterative process, starting with an initial estimate of the solution...\n",
    "\n",
    "* Make a linear approximation of $f(x)$ at the current estimated solution and find the point where the linear approximation crosses the x-axis.\n",
    "* This gives us a new guess at the solution. Repeat with that value.\n",
    "\n",
    "Using the point-slope form for the linear approximation...\n",
    "\n",
    "$y–y_0 = m(x–x_0)$\n",
    "\n",
    "...we know that $y=0$ because we're looking for the point where the line crosses the x-axis...\n",
    "\n",
    "$–y_0 = m(x–x_0)$\n",
    "\n",
    "Now we re-arrange to find the x-coordinate that will become our new guess at the solution:\n",
    "\n",
    "$–y_0 = m(x–x_0)$\n",
    "\n",
    "$-\\frac{y_0}{m}=x-x_0$\n",
    "\n",
    "$x_0-\\frac{y_0}{m}=x$\n",
    "\n",
    "$x=x_0-\\frac{y_0}{m}$\n",
    "\n",
    "In this formula, the point $(x_0, y_0)$ is the point on $f(x)$ that we're using as the base point for our linear approximation. In other words, $x_0$ is our current estimate at the solution and $y_0=f(x_0)$. $m$ of course is the gradient of our linear approximation which should equal the gradient of $f(x)$ at that point, i.e., $m=f'(x_0)$. So...\n",
    "\n",
    "$x=x_0-\\frac{f(x_0)}{f'(x_0)}$\n",
    "\n",
    "Or, to put in the context of the iteration:\n",
    "\n",
    "$x_{n+1}=x_n-\\frac{f(x_n)}{f'(x_n)}$\n",
    "\n",
    "## An example\n",
    "\n",
    "Use Newton's Method to solve $x^2=5$.\n",
    "\n",
    "Rearrange the equation so that it's expressed in terms of something that equals $0$...\n",
    "\n",
    "$x^2=5$\n",
    "\n",
    "$x^2-5=0$\n",
    "\n",
    "Represent the left-hand side of that equality as a function of the unknown...\n",
    "\n",
    "$f(x)=x^2-5$\n",
    "\n",
    "Make an initial estimate of the solution: Well we're really trying to find the value for $\\sqrt5$. We know that $\\sqrt4=2$ so let's start with $2$.\n",
    "\n",
    "Iterate to improve that estimate:\n",
    "\n",
    "$x_{n+1}=x_n-\\frac{f(x_n)}{f'(x_n)}$\n",
    "\n",
    "$f(x_n)=x_n^2-5$\n",
    "\n",
    "$f'(x_n)=2x_n$\n",
    "\n",
    "$x_{n+1}=x_n-\\frac{x_n^2-5}{2x_n}$\n",
    "\n",
    "$=x_n-(\\frac{x_n^2}{2x_n}-\\frac{5}{2x_n})$\n",
    "\n",
    "$=x_n-(\\frac{x_n}{2}-\\frac{5}{2x_n})$\n",
    "\n",
    "$=x_n-\\frac{x_n}{2}+\\frac{5}{2x_n}$\n",
    "\n",
    "$=\\frac{x_n}{2}+\\frac{5}{2x_n}$\n",
    "\n",
    "It makes it a bit easier to use in the iteration if you think of it as:\n",
    "\n",
    "$x_{n+1}=\\frac{1}{2}x_n+\\frac{5}{2}\\frac{1}{x_n}$\n",
    "\n",
    "So:\n",
    "\n",
    "$x_0=2$ (2.0)\n",
    "\n",
    "$x_1=\\frac{1}{2}2+\\frac{5}{2}\\frac{1}{2}=\\frac{9}{4}$ (2.25)\n",
    "\n",
    "$x_2=\\frac{1}{2}\\frac{9}{4}+\\frac{5}{2}\\frac{4}{9}=\\frac{161}{72}$ (2.236111...)\n",
    "\n",
    "$x_3=\\frac{1}{2}\\frac{161}{72}+\\frac{5}{2}\\frac{72}{161}$ (2.2360679779158040027605244996549)\n",
    "\n",
    "So you can see the estimates are getting closer to the actual solution and quickly get very close. (My calulcator says $\\sqrt5=2.2360679774997896964091736687313$)\n",
    "\n",
    "### Working it through graphically...\n",
    "\n",
    "Below is a graphical representation of the first two iterations of the above example. It can be quite difficult to illustrate as the estimate very quickly gets very close to the actual value so you have to zoom in quite far to see what's happening.\n",
    "\n",
    "Here's a nice animation from wikipedia of a different example that might be easier to visualise...\n",
    "\n",
    "![](https://upload.wikimedia.org/wikipedia/commons/e/e0/NewtonIteration_Ani.gif)\n",
    "\n",
    "*By Ralf Pfeifer (de:Image:NewtonIteration Ani.gif) [[GFDL](http://www.gnu.org/copyleft/fdl.html) or [CC-BY-SA-3.0](http://creativecommons.org/licenses/by-sa/3.0/)], via Wikimedia Commons from Wikimedia Commons*\n",
    "\n",
    "\n",
    "**Step 1:**"
   ]
  },
  {
   "cell_type": "code",
   "execution_count": 4,
   "metadata": {
    "collapsed": false
   },
   "outputs": [
    {
     "data": {
      "image/png": "[encoded data removed]",
      "text/plain": [
       "<IPython.core.display.Image object>"
      ]
     },
     "metadata": {},
     "output_type": "display_data"
    }
   ],
   "source": [
    "x=[-3:0.01:3];\n",
    "y=x.^2-5;\n",
    "\n",
    "# initial \"guess\": x=2\n",
    "# linear approximation, y_approx = y'(2)(x-2)+y(2)\n",
    "# = 4(x-2)-1\n",
    "# = 4x-8-1\n",
    "# = 4x-9\n",
    "y_approx = 4.*x-9;\n",
    "\n",
    "plot(x,y,'LineWidth',3, \n",
    "     [2.0 2.0], [0 -1.2],\n",
    "     x,y_approx);\n",
    "     \n",
    "set(gca, \"xaxislocation\", \"origin\");\n",
    "set(gca, \"yaxislocation\", \"origin\");\n",
    "set(gca, \"ylim\", [-6 5]);\n",
    "set(gca, \"box\", \"off\");"
   ]
  },
  {
   "cell_type": "code",
   "execution_count": 7,
   "metadata": {
    "collapsed": false
   },
   "outputs": [
    {
     "data": {
      "image/png": "[encoded data removed]",
      "text/plain": [
       "<IPython.core.display.Image object>"
      ]
     },
     "metadata": {},
     "output_type": "display_data"
    }
   ],
   "source": [
    "x=[1.95:0.01:2.3];\n",
    "y=x.^2-5;\n",
    "y_approx = 4.*x-9;\n",
    "\n",
    "plot(x,y,'LineWidth',3, \n",
    "     [2.0 2.0], [0 -1.2],\n",
    "     x,y_approx);\n",
    "     \n",
    "set(gca, \"xaxislocation\", \"origin\");\n",
    "set(gca, \"xlim\", [1.95 2.3]);\n",
    "set(gca, \"box\", \"off\");"
   ]
  },
  {
   "cell_type": "markdown",
   "metadata": {},
   "source": [
    "**Step 2:**"
   ]
  },
  {
   "cell_type": "code",
   "execution_count": 10,
   "metadata": {
    "collapsed": false
   },
   "outputs": [
    {
     "data": {
      "image/png": "[encoded data removed]",
      "text/plain": [
       "<IPython.core.display.Image object>"
      ]
     },
     "metadata": {},
     "output_type": "display_data"
    }
   ],
   "source": [
    "x=[-3:0.01:3];\n",
    "y=x.^2-5;\n",
    "\n",
    "# current approximation: x=2.25\n",
    "# linear approximation, y_approx = y'(2.25)(x-2.25)+y(2.25)\n",
    "# = 4.5(x-2.25)+0.0625\n",
    "# = 4.5x-10.125+0.0625\n",
    "# = 4.5x-10.0625\n",
    "y_approx = 4.5.*x-10.0625;\n",
    "\n",
    "plot(x,y,'LineWidth',3, \n",
    "     [2.25 2.25], [0 0.1],\n",
    "     x,y_approx);\n",
    "     \n",
    "set(gca, \"xaxislocation\", \"origin\");\n",
    "set(gca, \"yaxislocation\", \"origin\");\n",
    "set(gca, \"ylim\", [-6 5]);\n",
    "set(gca, \"box\", \"off\");"
   ]
  },
  {
   "cell_type": "code",
   "execution_count": 12,
   "metadata": {
    "collapsed": false
   },
   "outputs": [
    {
     "data": {
      "image/png": "[encoded data removed]",
      "text/plain": [
       "<IPython.core.display.Image object>"
      ]
     },
     "metadata": {},
     "output_type": "display_data"
    }
   ],
   "source": [
    "x=[1.95:0.01:2.3];\n",
    "y=x.^2-5;\n",
    "\n",
    "y_approx = 4.5.*x-10.0625;\n",
    "\n",
    "plot(x,y,'LineWidth',3, \n",
    "     [2.25 2.25], [0 0.1],\n",
    "     x,y_approx);\n",
    "     \n",
    "set(gca, \"xaxislocation\", \"origin\");\n",
    "set(gca, \"xlim\", [1.95 2.3]);\n",
    "set(gca, \"box\", \"off\");"
   ]
  },
  {
   "cell_type": "code",
   "execution_count": 13,
   "metadata": {
    "collapsed": false
   },
   "outputs": [
    {
     "data": {
      "image/png": "[encoded data removed]",
      "text/plain": [
       "<IPython.core.display.Image object>"
      ]
     },
     "metadata": {},
     "output_type": "display_data"
    }
   ],
   "source": [
    "x=[2.2:0.01:2.3];\n",
    "y=x.^2-5;\n",
    "\n",
    "y_approx = 4.5.*x-10.0625;\n",
    "\n",
    "plot(x,y,'LineWidth',3, \n",
    "     [2.25 2.25], [0 0.1],\n",
    "     x,y_approx);\n",
    "     \n",
    "set(gca, \"xaxislocation\", \"origin\");\n",
    "set(gca, \"xlim\", [2.2 2.3]);\n",
    "set(gca, \"box\", \"off\");"
   ]
  },
  {
   "cell_type": "markdown",
   "metadata": {},
   "source": [
    "## Things to look out for...\n",
    "\n",
    "*...i.e., times where the method can go wrong*\n",
    "\n",
    "* $f'(x_n)$ is small. If the gradient of the function at the current estimate is small then then the linear approximation will cross the x-axis far away from the current estimate. If the gradient is actually $0$ then it is a disaster as it means the linear approximation will never cross the x-axis. (Notice the $f'(x_n)$ in the denominator.)\n",
    "* $f''(x_n)$ is large. Recall that the second derivative defines how curved the function is. If it is very curved at the point of the current estimate then the linear approximation will be less effective.\n",
    "* $x_0$ is too far away from the real value. For example, a negative $x_0$ in our parabola example would take us to the wrong x-axis intersection.\n",
    "* It's possible to get stuck in loop, i.e., iterating with $x_n$ gives a new estimate of $x_{n+1}$ and then iterating with $x_{n+1}$ produces an estimate of $x_n$..."
   ]
  }
 ],
 "metadata": {
  "kernelspec": {
   "display_name": "Octave",
   "language": "octave",
   "name": "octave"
  },
  "language_info": {
   "file_extension": ".m",
   "help_links": [
    {
     "text": "GNU Octave",
     "url": "https://www.gnu.org/software/octave/support.html"
    },
    {
     "text": "Octave Kernel",
     "url": "https://github.com/Calysto/octave_kernel"
    },
    {
     "text": "MetaKernel Magics",
     "url": "https://github.com/calysto/metakernel/blob/master/metakernel/magics/README.md"
    }
   ],
   "mimetype": "text/x-octave",
   "name": "octave",
   "version": "4.2.1"
  }
 },
 "nbformat": 4,
 "nbformat_minor": 2
}
