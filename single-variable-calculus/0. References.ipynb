{
 "cells": [
  {
   "cell_type": "markdown",
   "metadata": {},
   "source": [
    "## Point-slope form of a straight line\n",
    "\n",
    "You probably know that the formula of a staight line is: $y=mx+c$, where $m$ is the slope and $c$ is the intercept, but there's another form called the [point-slope form](http://www.purplemath.com/modules/strtlneq2.htm) of a straight line:\n",
    "\n",
    "Given a point $(x1, y1)$ and slope $m$:\n",
    "\n",
    "$y – y1 = m(x – x1)$\n",
    "\n",
    "-----\n",
    "\n",
    "## Trigonometric identities\n",
    "\n",
    "**[Basic identities](https://en.wikipedia.org/wiki/List_of_trigonometric_identities#Trigonometric_functions)**\n",
    "\n",
    "$\\tan(x)=\\frac{\\sin(x)}{\\cos(x)}$\n",
    "\n",
    "$\\sec(x)=\\frac{1}{\\cos(x)}$\n",
    "\n",
    "$\\csc(x)=\\frac{1}{\\sin(x)}$\n",
    "\n",
    "$\\cot(x)=\\frac{1}{\\tan(x)}=\\frac{\\cos(x)}{\\sin(x)}$\n",
    "\n",
    "**[Pythagorean identities](https://en.wikipedia.org/wiki/List_of_trigonometric_identities#Pythagorean_identity)**\n",
    "\n",
    "$\\sin^2(x)+\\cos^2(x)=1$\n",
    "\n",
    "$1+\\tan^2(x)=sec^2(x)$\n",
    "\n",
    "$1+\\cot^2(x)=csc^2(x)$\n",
    "\n",
    "**[Angle sum and difference identities](https://en.wikipedia.org/wiki/List_of_trigonometric_identities#Angle_sum_and_difference_identities)**\n",
    "\n",
    "$\\sin(a+b)=\\sin(a)\\cos(b)+\\cos(a)\\sin(b)$\n",
    "\n",
    "$\\sin(a-b)=\\sin(a)\\cos(b)-\\cos(a)\\sin(b)$\n",
    "\n",
    "$\\cos(a+b)=\\cos(a)\\cos(b)-\\sin(a)\\sin(b)$\n",
    "\n",
    "$\\cos(a-b)=\\cos(a)\\cos(b)+\\sin(a)\\sin(b)$\n",
    "\n",
    "-----\n",
    "\n",
    "## Limits rules\n",
    "\n",
    "Assume two functions, $f$ and $g$, with limits: $\\lim\\limits_{x \\to c}f(x)=L$ and $\\lim\\limits_{x \\to c}g(x)=M$. (And, assume that both limits actually exist - which is safe to assume when dealing with differentiable functions as [they must be continuous](1a. Differentiable functions must be continuous.ipynb).)\n",
    "\n",
    "1. **Sum rule:** The limit of the sum of the two functions is the sum of their limits. $\\lim\\limits_{x \\to c}(f(x)+g(x))=\\lim\\limits_{x \\to c}f(x)+\\lim\\limits_{x \\to c}g(x)=L+M$\n",
    "1. **Difference rule:** The limit of the difference of the two functions is the difference of their limits. $\\lim\\limits_{x \\to c}(f(x)-g(x))=\\lim\\limits_{x \\to c}f(x)-\\lim\\limits_{x \\to c}g(x)=L-M$\n",
    "1. **Product rule:** The limit of the product of the two functions is the product of their limits. $\\lim\\limits_{x \\to c}(f(x)*g(x))=\\lim\\limits_{x \\to c}f(x) * \\lim\\limits_{x \\to c}g(x)=L * M$\n",
    "1. **Quotient rule:** The limit of the quotient of the two functions is the quotient of their limits, (as long as the limit of the denominator is not zero). $\\lim\\limits_{x \\to c}\\Big(\\frac{f(x)}{g(x)}\\Big)=\\frac{\\lim\\limits_{x \\to c}f(x)}{\\lim\\limits_{x \\to c}g(x)}=\\frac{L}{M}$\n",
    "1. **Constant multiple rule:** The limit of a constant times a function is the constant times the limit of the function. $\\lim\\limits_{x \\to c}(k*f(x))=k * \\lim\\limits_{x \\to c}f(x)=k * L$"
   ]
  }
 ],
 "metadata": {
  "anaconda-cloud": {},
  "kernelspec": {
   "display_name": "Octave",
   "language": "octave",
   "name": "octave"
  },
  "language_info": {
   "file_extension": ".m",
   "help_links": [
    {
     "text": "MetaKernel Magics",
     "url": "https://github.com/calysto/metakernel/blob/master/metakernel/magics/README.md"
    }
   ],
   "mimetype": "text/x-octave",
   "name": "octave",
   "version": "0.16.0"
  }
 },
 "nbformat": 4,
 "nbformat_minor": 0
}
