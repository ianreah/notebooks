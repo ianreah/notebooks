{
 "cells": [
  {
   "cell_type": "markdown",
   "metadata": {},
   "source": [
    "##Point-slope form of a straight line\n",
    "\n",
    "You probably know that the formula of a staight line is: $y=mx+c$, where $m$ is the slope and $c$ is the intercept, but there's another form called the [point-slope form](http://www.purplemath.com/modules/strtlneq2.htm) of a straight line:\n",
    "\n",
    "Given a point $(x1, y1)$ and slope $m$:\n",
    "\n",
    "$y – y1 = m(x – x1)$\n",
    "\n",
    "-----\n",
    "\n",
    "##Trigonometric identities\n",
    "\n",
    "**[Angle sum and difference identities](https://en.wikipedia.org/wiki/List_of_trigonometric_identities#Angle_sum_and_difference_identities)**\n",
    "\n",
    "$\\sin(a+b)=\\sin(a)\\cos(b)+\\cos(a)\\sin(b)$\n",
    "\n",
    "$\\sin(a-b)=\\sin(a)\\cos(b)-\\cos(a)\\sin(b)$\n",
    "\n",
    "$\\cos(a+b)=\\cos(a)\\cos(b)-\\sin(a)\\sin(b)$\n",
    "\n",
    "$\\cos(a-b)=\\cos(a)\\cos(b)+\\sin(a)\\sin(b)$"
   ]
  }
 ],
 "metadata": {
  "kernelspec": {
   "display_name": "Octave",
   "language": "octave",
   "name": "octave"
  },
  "language_info": {
   "file_extension": ".m",
   "help_links": [
    {
     "text": "MetaKernel Magics",
     "url": "https://github.com/calysto/metakernel/blob/master/metakernel/magics/README.md"
    }
   ],
   "mimetype": "text/x-octave",
   "name": "octave",
   "version": "0.16.0"
  }
 },
 "nbformat": 4,
 "nbformat_minor": 0
}
