{
 "cells": [
  {
   "cell_type": "markdown",
   "metadata": {},
   "source": [
    "Find the derivative of: $f(x)=x^\\pi+\\pi^x$"
   ]
  },
  {
   "cell_type": "markdown",
   "metadata": {},
   "source": [
    "Notice that the first term is one of the first types we learnt to differentiate - i.e., we just apply the [power rule](2.%20Using%20the%20definition%20to%20derive%20some%20differentiation%20rules.ipynb#Power-rule).\n",
    "\n",
    "$\\frac{d}{dx}x^\\pi=\\pi x^{\\pi-1}$\n",
    "\n",
    "But the trick is spotting that the second term can't be differentiated *with respect to x* with the power rule. It's of the form $a^x$ where $a=\\pi$ so we use our new rule:\n",
    "\n",
    "$\\frac{d}{dx}a^x=a^xM(a)$ where $M(a)=\\ln(a)$\n",
    "\n",
    "$\\frac{d}{dx}a^x=a^x\\ln(a)$\n",
    "\n",
    "$\\frac{d}{dx}\\pi^x=\\pi^x\\ln(\\pi)$\n",
    "\n",
    "And, of course, we need the [sum rule](2.%20Using%20the%20definition%20to%20derive%20some%20differentiation%20rules.ipynb#Sum-rule) to differentiate the whole function.\n",
    "\n",
    "$f'(x)=\\pi x^{\\pi-1}+\\pi^x\\ln(\\pi)$"
   ]
  },
  {
   "cell_type": "markdown",
   "metadata": {},
   "source": [
    "Find the derivative of: $g(x)=\\ln(\\cos x)$"
   ]
  },
  {
   "cell_type": "markdown",
   "metadata": {},
   "source": [
    "This clearly requires the [chain rule](2.%20Using%20the%20definition%20to%20derive%20some%20differentiation%20rules.ipynb#Chain-rule):\n",
    "\n",
    "$u(x)=\\ln(x)$\n",
    "\n",
    "$u'(x)=\\frac{1}{x}$ ...as shown in [step 4](4.%20Derivative%20of%20a%5Ex.ipynb#Step-4) of our process of working out the derivative of $a^x$\n",
    "\n",
    "$v(x)=\\cos x$\n",
    "\n",
    "$v'(x)=-\\sin x$ ...[cos rule](2.%20Using%20the%20definition%20to%20derive%20some%20differentiation%20rules.ipynb#cos)\n",
    "\n",
    "$g(x)=u(v(x))$\n",
    "\n",
    "$g'(x)=u'(v(x))v'(x)$\n",
    "\n",
    "$g'(x)=\\frac{1}{\\cos(x)}(-\\sin(x))$\n",
    "\n",
    "$=-\\frac{\\sin(x)}{\\cos(x)}$\n",
    "\n",
    "$=-\\tan(x)$"
   ]
  },
  {
   "cell_type": "markdown",
   "metadata": {},
   "source": [
    "Find the derivative of: $h(x)=\\ln(e^{x^2})$"
   ]
  },
  {
   "cell_type": "markdown",
   "metadata": {},
   "source": [
    "If you don't look too closely at this you might differentiate it as a chain of 3 functions...\n",
    "\n",
    "$u(x)=\\ln(x)$\n",
    "\n",
    "$u'(x)=\\frac{1}{x}$ ...as shown in [step 4](4.%20Derivative%20of%20a%5Ex.ipynb#Step-4) of our process of working out the derivative of $a^x$\n",
    "\n",
    "$v(x)=e^x$\n",
    "\n",
    "$v'(x)=e^x$ ...by definition (see [here](4.%20Derivative%20of%20a%5Ex.ipynb#Step-3)).\n",
    "\n",
    "$w(x)=x^2$\n",
    "\n",
    "$w'(x)=2x$ ...simple application of the [power rule](2.%20Using%20the%20definition%20to%20derive%20some%20differentiation%20rules.ipynb#Power-rule)\n",
    "\n",
    "$h(x)=u(v(w(x)))$\n",
    "\n",
    "$h'(x)=u'(v(w(x)))v'(w(x))w'(x)$\n",
    "\n",
    "$h'(x)=\\frac{1}{e^{x^2}}e^{x^2}2x$\n",
    "\n",
    "$=\\frac{e^{x^2}}{e^{x^2}}2x$\n",
    "\n",
    "$=2x$\n",
    "\n",
    "**BUT** there's a much quicker way, if you look a bit closer...\n",
    "\n",
    "The natural log function $\\ln$ is defined as the inverse of $e^x$\n",
    "\n",
    "So, if $y=e^x$ then $x=\\ln y$, and $\\ln e^x=x$.\n",
    "\n",
    "So $\\ln(e^{x^2})$ can be simplified to $x^2$ and we can easily differentiate that with the power rule to get the same answer, $2x$."
   ]
  }
 ],
 "metadata": {
  "anaconda-cloud": {},
  "kernelspec": {
   "display_name": "Octave",
   "language": "octave",
   "name": "octave"
  },
  "language_info": {
   "file_extension": ".m",
   "help_links": [
    {
     "text": "MetaKernel Magics",
     "url": "https://github.com/calysto/metakernel/blob/master/metakernel/magics/README.md"
    }
   ],
   "mimetype": "text/x-octave",
   "name": "octave",
   "version": "0.16.0"
  }
 },
 "nbformat": 4,
 "nbformat_minor": 2
}
