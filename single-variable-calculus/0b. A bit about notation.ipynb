{
 "cells": [
  {
   "cell_type": "markdown",
   "metadata": {},
   "source": [
    "There are a few different notations used for the derivative of a function. Throughout these notes I've tended to vary the notation I've used and sometimes even mixed them - prioritising clarity and readability over consistency.\n",
    "\n",
    "This approach seems to be endorsed by the [Wikipedia article](https://en.wikipedia.org/wiki/Notation_for_differentiation)...\n",
    "\n",
    "> The usefulness of each notation varies with the context, and it is sometimes advantageous to use more than one notation in a given context\n",
    "\n",
    "There are others not listed below but until/unless I use them in these notes I'll omit here.\n",
    "\n",
    "## Leibniz's notation\n",
    "\n",
    "If $y=f(x)$ then the deriviative can be written as...\n",
    "\n",
    "$\\frac{dy}{dx}$ or $\\frac{df}{dx}(x)$ or $\\frac{df(x)}{dx}$ or $\\frac{d}{dx}f(x)$\n",
    "\n",
    "Higher derivatives are written as...\n",
    "\n",
    "$\\frac{d^2y}{dx^2},\\frac{d^3y}{dx^3},\\frac{d^4y}{dx^4},...,\\frac{d^ny}{dx^n}.$\n",
    "\n",
    "## Lagrange's notation\n",
    "\n",
    "If $f$ is a function then the derivative can be written as...\n",
    "\n",
    "$f'(x)$\n",
    "\n",
    "Second and third derivatives are written as...\n",
    "\n",
    "$f''(x)$ and $f'''(x)$\n",
    "\n",
    "Higher derivative are written as...\n",
    "\n",
    "$f^{(n)}(x)$\n",
    "\n",
    "## Euler's notation\n",
    "\n",
    "If $f$ is a function then the derivative can be written as...\n",
    "\n",
    "$Df$\n",
    "\n",
    "Higher derivatives are written as...\n",
    "\n",
    "$D^2f,D^3f,D^4f,...,D^nf.$\n"
   ]
  }
 ],
 "metadata": {
  "anaconda-cloud": {},
  "kernelspec": {
   "display_name": "Octave",
   "language": "octave",
   "name": "octave"
  },
  "language_info": {
   "file_extension": ".m",
   "help_links": [
    {
     "text": "MetaKernel Magics",
     "url": "https://github.com/calysto/metakernel/blob/master/metakernel/magics/README.md"
    }
   ],
   "mimetype": "text/x-octave",
   "name": "octave",
   "version": "0.16.0"
  }
 },
 "nbformat": 4,
 "nbformat_minor": 2
}
