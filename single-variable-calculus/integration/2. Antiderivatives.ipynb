{
 "cells": [
  {
   "cell_type": "markdown",
   "metadata": {},
   "source": [
    "The antiderivative of a function is a function whose derivative is equal to the original function. If $G(x)$ is the antiderivative of a function $g(x)$ then:\n",
    "\n",
    "$G'(x)=g(x)$ (or, using differential notation: $dG=g(x)dx$)\n",
    "\n",
    "For example, to find the antiderivative of $\\sin x$ we need to find a function whose derivative is $\\sin x$. What about $-\\cos x$?...\n",
    "\n",
    "$g(x)=\\sin x$\n",
    "\n",
    "$G(x)=-\\cos x$\n",
    "\n",
    "$G'(x)=\\sin x=g(x)$\n",
    "\n",
    "...so $-\\cos x$ is the antiderivative of $\\sin x$? Well, it's not that straight-forward. What about $-\\cos x + 7$?\n",
    "\n",
    "$g(x)=\\sin x$\n",
    "\n",
    "$G(x)=-\\cos x+7$\n",
    "\n",
    "$G'(x)=\\sin x=g(x)$\n",
    "\n",
    "...because the derivative of a constant is $0$. We can add any constant and still have an antiderivative of $\\sin x$. For this reason it is often called the *indefinite integral* because we can never definitely define a single function for the antiderivative. The answer is always ambigious because of the unknown constant.\n",
    "\n",
    "The notation for the antiderivative is:\n",
    "\n",
    "$\\int \\sin x dx=-\\cos x + c$\n",
    "\n",
    "...where $c$ can be any constant.\n",
    "\n",
    "And to make matters worse, we sometimes run into other difficulties and exceptions when trying to find a function with a particular derivative. Consider $x^a$...\n",
    "\n",
    "$\\int x^a dx = \\frac{x^{a+1}}{a+1}+c$\n",
    "\n",
    "...because (by the power rule):\n",
    "\n",
    "$d(\\frac{x^{a+1}}{a+1})=d(\\frac{1}{a+1}x^{a+1})=\\frac{a+1}{a+1}x^{a}dx=x^{a}dx$\n",
    "\n",
    "The problem comes when $a=-1$ because we get a divide by $0$ in the antiderivative. So not only do we have the ambiguity of the constant $c$ we also have to say it is only true when $a \\ne -1$.\n",
    "\n",
    "And another example which throws up problems is the antiderivative of $\\frac{1}{x}$.\n",
    "\n",
    "$\\int \\frac{1}{x}dx=\\ln x + c$\n",
    "\n",
    "The 'gotcha' here is to consider what happens when $x \\lt 0$. The natural log of a negative number is undefined, but can we find a function whose derivative is $\\frac{1}{x}$ when $x \\lt 0$?\n",
    "\n",
    "$d(\\ln(-x))$ when $x \\lt 0$\n",
    "\n",
    "$=\\frac{1}{-x}(-1)dx$ (by the chain rule)\n",
    "\n",
    "$=\\frac{1}{x}dx$\n",
    "\n",
    "So we can add an absolute function to make our antiderivate true for negative values for $x$ as well.\n",
    "\n",
    "$\\int \\frac{1}{x}dx=\\ln \\mid x\\mid + c$\n",
    "\n",
    "**Some more quick examples:**\n",
    "\n",
    "$\\int \\sec^2 x \\,dx=\\tan x + c$\n",
    "\n",
    "$\\int \\frac{1}{\\sqrt{1-x^2}} \\,dx=\\sin^{-1} x + c$\n",
    "\n",
    "$\\int \\frac{1}{1+x^2} \\,dx=\\tan^{-1} x + c$"
   ]
  }
 ],
 "metadata": {
  "kernelspec": {
   "display_name": "Octave",
   "language": "octave",
   "name": "octave"
  },
  "language_info": {
   "file_extension": ".m",
   "help_links": [
    {
     "text": "GNU Octave",
     "url": "https://www.gnu.org/software/octave/support.html"
    },
    {
     "text": "Octave Kernel",
     "url": "https://github.com/Calysto/octave_kernel"
    },
    {
     "text": "MetaKernel Magics",
     "url": "https://github.com/calysto/metakernel/blob/master/metakernel/magics/README.md"
    }
   ],
   "mimetype": "text/x-octave",
   "name": "octave",
   "version": "4.2.1"
  }
 },
 "nbformat": 4,
 "nbformat_minor": 2
}
