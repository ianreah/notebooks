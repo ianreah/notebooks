{
 "cells": [
  {
   "cell_type": "markdown",
   "metadata": {},
   "source": [
    "## Integration by substitution\n",
    "\n",
    "Suppose we want to compute:\n",
    "\n",
    "$\\int x^3(x^4+2)^5\\,dx$\n",
    "\n",
    "We could expand and then we know how to integrate the polynomial but that's quite messy. Instead we can try the substitution method.\n",
    "\n",
    "This relies on being able to re-write the expression we want to integrate in terms of a new function and its differential. For this example we'd define the new function as...\n",
    "\n",
    "$u=x^4+2$\n",
    "\n",
    "Its differential is...\n",
    "\n",
    "$du=4x^3\\,dx$\n",
    "\n",
    "Then, to rewrite the original expression in terms of the new function and its differential we can substitute $(x^4+2)^5$ with $u^5$ and $x^3\\,dx$ with $\\frac{1}{4}\\,du$...\n",
    "\n",
    "$\\int x^3(x^4+2)^5\\,dx=\\int u^5\\frac{1}{4}\\,du$\n",
    "\n",
    "$=\\frac{u^6}{6}\\frac{1}{4}+c$\n",
    "\n",
    "$=\\frac{u^6}{24}+c$\n",
    "\n",
    "$=\\frac{(x^4+2)^6}{24}+c$\n",
    "\n",
    "## Integration by \"advanced guessing\"\n",
    "\n",
    "Sometimes, after you've done enough of these, you can get an idea of what the answer might be just from looking at the it. In these cases it can be quicker to take a guess at the answer, take the derivative of your guess, compare it to the initial expression and make any adjustments.\n",
    "\n",
    "For example:\n",
    "\n",
    "$\\int\\frac{x}{\\sqrt{1+x^2}}\\,dx$\n",
    "\n",
    "If we start with substition for $u=1+x^2$ and $du=2x\\,dx$...\n",
    "\n",
    "$\\int\\frac{x}{\\sqrt{1+x^2}}\\,dx=\\int\\frac{\\frac{1}{2}du}{\\sqrt{u}}$\n",
    "\n",
    "$=\\int\\frac{u^{-\\frac{1}{2}}}{2}\\,du$\n",
    "\n",
    "$=\\frac{2u^\\frac{1}{2}}{2}+c$\n",
    "\n",
    "$=u^\\frac{1}{2}+c$\n",
    "\n",
    "$=(1+x^2)^\\frac{1}{2}+c$\n",
    "\n",
    "$=\\sqrt{1+x^2}+c$\n",
    "\n",
    "But if you've done a few similar problems you might recognise that the square root in the denominator probably means that the answer will involve $u^\\frac{1}{2}$ and jump straight to a guess of $(1+x^2)^\\frac{1}{2}$...which you'd check by taking the derivative...\n",
    "\n",
    "$\\frac{d}{dx}(1+x^2)^\\frac{1}{2}=\\frac{1}{2}(1+x^2)^{-\\frac{1}{2}}2x$\n",
    "\n",
    "$=\\frac{2x}{2(1+x^2)^{\\frac{1}{2}}}$\n",
    "\n",
    "$=\\frac{x}{\\sqrt{1+x^2}}$\n",
    "\n",
    "Another example:\n",
    "\n",
    "$\\int e^{6x}\\,dx$\n",
    "\n",
    "Well we know that the derivative of $e^x$ is $e^x$ so our guess might be $e^{6x}$. Let's try taking the derivative of that...\n",
    "\n",
    "$\\frac{d}{dx}e^{6x}=e^{6x}6=6e^{6x}$\n",
    "\n",
    "So it turns out the derivative of our guess is 6 times too big. Maybe try $\\frac{e^{6x}}{6}$...\n",
    "\n",
    "$\\frac{d}{dx}(\\frac{1}{6}e^{6x})=\\frac{1}{6}e^{6x}6=\\frac{6}{6}e^{6x}=e^{6x}$\n",
    "\n",
    "Therefore, \n",
    "\n",
    "$\\int e^{6x}\\,dx=\\frac{e^{6x}}{6}+c$"
   ]
  }
 ],
 "metadata": {
  "kernelspec": {
   "display_name": "Octave",
   "language": "octave",
   "name": "octave"
  },
  "language_info": {
   "file_extension": ".m",
   "help_links": [
    {
     "text": "GNU Octave",
     "url": "https://www.gnu.org/software/octave/support.html"
    },
    {
     "text": "Octave Kernel",
     "url": "https://github.com/Calysto/octave_kernel"
    },
    {
     "text": "MetaKernel Magics",
     "url": "https://github.com/calysto/metakernel/blob/master/metakernel/magics/README.md"
    }
   ],
   "mimetype": "text/x-octave",
   "name": "octave",
   "version": "4.2.1"
  }
 },
 "nbformat": 4,
 "nbformat_minor": 2
}
