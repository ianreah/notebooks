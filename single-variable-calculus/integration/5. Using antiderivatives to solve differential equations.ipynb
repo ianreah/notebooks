{
 "cells": [
  {
   "cell_type": "markdown",
   "metadata": {},
   "source": [
    "## Example:\n",
    "\n",
    "$(\\frac{d}{dx}+x)y=0$\n",
    "\n",
    "**Step 1:** Rewrite the equation to isolate the rate of change $\\frac{dy}{dx}$\n",
    "\n",
    "$(\\frac{d}{dx}+x)y=0$\n",
    "\n",
    "$\\frac{dy}{dx}+xy=0$\n",
    "\n",
    "$\\frac{dy}{dx}=-xy$\n",
    "\n",
    "In general, this method works if the problem looks like $\\frac{dy}{dx}=f(x)g(y)$ at this point. In this case $f(x)=-x$ and $g(y)=y$ so we're good to go...\n",
    "\n",
    "**Step 2:** Rearrange to separate terms involving $x$ and terms involving $y$. We can treat the rate of change as a ratio of differentials...which is much easier using Leibnitz' notation.\n",
    "\n",
    "$\\frac{dy}{dx}=-xy$\n",
    "\n",
    "$dy=-xy\\,dx$\n",
    "\n",
    "$\\frac{dy}{y}=-x\\,dx$\n",
    "\n",
    "$\\frac{1}{y}\\,dy=-x\\,dx$\n",
    "\n",
    "**Step 3:** Integrate both sides\n",
    "\n",
    "$\\int\\frac{1}{y}\\,dy=-\\int x\\,dx$\n",
    "\n",
    "$\\ln y + c_1=-\\frac{x^2}{2}+c_2$ (**Note:** assuming $y \\gt 0$)\n",
    "\n",
    "$\\ln y=-\\frac{x^2}{2}+c$ ($c_1$ and $c_2$ are constant. $c=c_2-c_1$)\n",
    "\n",
    "**Step 4:** Solve for $y$\n",
    "\n",
    "$\\ln y=-\\frac{x^2}{2}+c$\n",
    "\n",
    "$e^{\\ln y}=e^{-\\frac{x^2}{2}+c}$\n",
    "\n",
    "$y=e^{-\\frac{x^2}{2}+c}$\n",
    "\n",
    "$=e^{-\\frac{x^2}{2}}e^c$\n",
    "\n",
    "$e^c$ is another constant so we can replace that with, say, $a=e^c$, (which also implies that $a \\ne 0$).\n",
    "\n",
    "$y=ae^{-\\frac{x^2}{2}}$\n",
    "\n",
    "**Step 5:** Check the solution using differentation:\n",
    "\n",
    "$y=ae^{-\\frac{x^2}{2}}$\n",
    "\n",
    "$\\frac{dy}{dx}=\\frac{d}{dx}ae^{-\\frac{x^2}{2}}$\n",
    "\n",
    "$=a\\frac{d}{dx}e^{-\\frac{x^2}{2}}$\n",
    "\n",
    "$=ae^{-\\frac{x^2}{2}}\\frac{-2x}{2}$\n",
    "\n",
    "$=ae^{-\\frac{x^2}{2}}(-x)$ (but $ae^{-\\frac{x^2}{2}}=y$)\n",
    "\n",
    "$\\frac{dy}{dx}=y(-x)$\n",
    "\n",
    "$=-xy$\n",
    "\n",
    "**Finally:** notice that we didn't need to make any assumptions about $a$ when checking the solution, so $a=0$ is possible.\n",
    "\n",
    "The function is actually the formula for a normal distribution - with zero mean and unit standard deviation. A constant $a=\\frac{1}{\\sqrt{2\\pi}}$ is often used so that the area under the distribution is equal to $100$..."
   ]
  },
  {
   "cell_type": "code",
   "execution_count": 6,
   "metadata": {
    "collapsed": false
   },
   "outputs": [
    {
     "name": "stdout",
     "output_type": "stream",
     "text": [
      "ans = 100.000\n"
     ]
    },
    {
     "data": {
      "image/png": "[encoded data removed]",
      "text/plain": [
       "<IPython.core.display.Image object>"
      ]
     },
     "metadata": {},
     "output_type": "display_data"
    }
   ],
   "source": [
    "a=1/sqrt(2*pi);\n",
    "\n",
    "x=[-6:0.01:6];\n",
    "y=a*exp(-x.^2./2);\n",
    "\n",
    "plot(x,y);\n",
    "\n",
    "sum(y)"
   ]
  }
 ],
 "metadata": {
  "kernelspec": {
   "display_name": "Octave",
   "language": "octave",
   "name": "octave"
  },
  "language_info": {
   "file_extension": ".m",
   "help_links": [
    {
     "text": "GNU Octave",
     "url": "https://www.gnu.org/software/octave/support.html"
    },
    {
     "text": "Octave Kernel",
     "url": "https://github.com/Calysto/octave_kernel"
    },
    {
     "text": "MetaKernel Magics",
     "url": "https://github.com/calysto/metakernel/blob/master/metakernel/magics/README.md"
    }
   ],
   "mimetype": "text/x-octave",
   "name": "octave",
   "version": "4.2.1"
  }
 },
 "nbformat": 4,
 "nbformat_minor": 2
}
