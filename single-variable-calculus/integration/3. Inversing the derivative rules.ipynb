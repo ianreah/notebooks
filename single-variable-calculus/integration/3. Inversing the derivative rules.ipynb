{
 "cells": [
  {
   "cell_type": "markdown",
   "metadata": {},
   "source": [
    "I'm making quite heavy use of [Liebniz's notation](/notebooks/single-variable-calculus/differentiation/0b.%20A%20bit%20about%20notation.ipynb#Leibniz's-notation) here. It makes it a bit more long-winded but I think it also makes it clearer to see exactly what's happening...\n",
    "\n",
    "## Invers of the derivative sum rule\n",
    "\n",
    "Suppose we want to find out what the antiderivative equivalent of the derivative sum rule is, i.e.,...\n",
    "\n",
    "$\\int(u(x)+v(x)) \\,dx=???$\n",
    "\n",
    "Let $U(x)$ be the antiderivative of $u(x)$ and $V(x)$ be the antiderivative of $v(x)$, i.e.,...\n",
    "\n",
    "$U(x)=\\int u(x) \\,dx$ \n",
    "\n",
    "$V(x)=\\int v(x) \\,dx$\n",
    "\n",
    "By definition:\n",
    "\n",
    "$\\frac{d(U(x))}{dx}=u(x)$\n",
    "\n",
    "$\\frac{d(V(x))}{dx}=v(x)$\n",
    "\n",
    "The derivative sum rule says:\n",
    "\n",
    "$\\frac{d(f(x)+g(x))}{dx}=\\frac{d(f(x))}{dx}+\\frac{d(f(x))}{dx}$\n",
    "\n",
    "Or, if we reverse it we get...\n",
    "\n",
    "$\\frac{d(f(x))}{dx}+\\frac{d(f(x))}{dx}=\\frac{d(f(x)+g(x))}{dx}$\n",
    "\n",
    "Summing the derivatives of $U$ and $V$ gives us...\n",
    "\n",
    "$\\frac{d(U(x))}{dx}+\\frac{d(V(x))}{dx}=\\frac{d(U(x)+V(x))}{dx}$\n",
    "\n",
    "Then taking the antiderivatives of both sides...\n",
    "\n",
    "$\\int(\\frac{d(U(x))}{dx}+\\frac{d(V(x))}{dx}) \\,dx=\\int\\frac{d(U(x)+V(x))}{dx} \\,dx$\n",
    "\n",
    "$\\int(u(x)+v(x)) \\,dx=U(x)+V(x)$\n",
    "\n",
    "$\\int(u(x)+v(x)) \\,dx=\\int u(x) \\,dx+\\int v(x) \\,dx$\n",
    "\n",
    "## Inverse of the derivative product rule\n",
    "\n",
    "Again:\n",
    "\n",
    "Let $U(x)$ be the antiderivative of $u(x)$ and $V(x)$ be the antiderivative of $v(x)$, i.e.,...\n",
    "\n",
    "$U(x)=\\int u(x) \\,dx$ \n",
    "\n",
    "$V(x)=\\int v(x) \\,dx$\n",
    "\n",
    "By definition:\n",
    "\n",
    "$\\frac{d(U(x))}{dx}=u(x)$\n",
    "\n",
    "$\\frac{d(V(x))}{dx}=v(x)$\n",
    "\n",
    "The derivative product rule says:\n",
    "\n",
    "$\\frac{d(f(x)g(x))}{dx}=\\frac{d(f(x))}{dx}g(x)+f(x)\\frac{d(g(x))}{dx}$\n",
    "\n",
    "Or, if we reverse it we get...\n",
    "\n",
    "$\\frac{d(f(x))}{dx}g(x)+f(x)\\frac{d(g(x))}{dx}=\\frac{d(f(x)g(x))}{dx}$\n",
    "\n",
    "Applying it to our antiderivatives $U(x)$ and $V(x)$ gives us...\n",
    "\n",
    "$\\frac{d(U(x))}{dx}V(x)+U(x)\\frac{d(V(x))}{dx}=\\frac{d(U(x)V(x))}{dx}$\n",
    "\n",
    "Then taking the antiderivatives of both sides...\n",
    "\n",
    "$\\int(\\frac{d(U(x))}{dx}V(x)+U(x)\\frac{d(V(x))}{dx}) \\,dx=\\int(\\frac{d(U(x)V(x))}{dx}) \\,dx$\n",
    "\n",
    "$\\int(u(x)V(x)+U(x)v(x)) \\,dx=U(x)V(x)$\n",
    "\n",
    "Or, apparently if we re-arrange it like this, it becomes quite useful later on for a techinque called \"integration by parts\"...\n",
    "\n",
    "$\\int(u(x)V(x)) \\,dx+\\int(U(x)v(x)) \\,dx=U(x)V(x)$\n",
    "\n",
    "$\\int(U(x)v(x)) \\,dx=U(x)V(x)-\\int(u(x)V(x)) \\,dx$"
   ]
  }
 ],
 "metadata": {
  "kernelspec": {
   "display_name": "Octave",
   "language": "octave",
   "name": "octave"
  },
  "language_info": {
   "file_extension": ".m",
   "help_links": [
    {
     "text": "GNU Octave",
     "url": "https://www.gnu.org/software/octave/support.html"
    },
    {
     "text": "Octave Kernel",
     "url": "https://github.com/Calysto/octave_kernel"
    },
    {
     "text": "MetaKernel Magics",
     "url": "https://github.com/calysto/metakernel/blob/master/metakernel/magics/README.md"
    }
   ],
   "mimetype": "text/x-octave",
   "name": "octave",
   "version": "4.2.1"
  }
 },
 "nbformat": 4,
 "nbformat_minor": 2
}
