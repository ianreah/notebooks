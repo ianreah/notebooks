{
 "cells": [
  {
   "cell_type": "markdown",
   "metadata": {},
   "source": [
    "**Theorem:** If $f$ is differentiable at $x_0$ then it must be continuous at $x_0$.\n",
    "\n",
    "**Proof:**\n",
    "\n",
    "For a function to be continuous at a point $x_0$ then:\n",
    "\n",
    "1. The value of $f(x_0)$ must be defined\n",
    "1. The left-hand limit and the right-hand limit of the function approaching $x_0$, i.e., $\\lim\\limits_{x \\to x_0^+} f(x) = \\lim\\limits_{x \\to x_0^-} f(x)$, must be equal\n",
    "1. The limits from 2 and the defined value from 1 are also equal, i.e., $\\lim\\limits_{x \\to x_0^+} f(x) = \\lim\\limits_{x \\to x_0^-} f(x) = f(x_0)$\n",
    "\n",
    "(See the discussion about continuity in the [limits reference section](0a. A bit about limits.ipynb#Continuity) for more.)\n",
    "\n",
    "In other words:\n",
    "\n",
    "$\\lim\\limits_{x \\to x_0} f(x) = f(x_0)$\n",
    "\n",
    "...when the limit can be taken from either direction!\n",
    "\n",
    "Which can be written as:\n",
    "\n",
    "$\\lim\\limits_{x \\to x_0} f(x) - f(x_0)= 0$\n",
    "\n",
    "So, if we can prove that the expression on the left equals $0$ for any differentiable function then we've proven the theorem.\n",
    "\n",
    "Now, we can divide the term on the left-hand side by any number and, if we also multiply it by the same number, then it's value doesn't change. So, if we multiply & divide by $(x-x_0)$ then it still equals $0$...\n",
    "\n",
    "$\\lim\\limits_{x \\to x_0} \\frac{f(x) - f(x_0)}{(x-x_0)} (x-x_0)= 0$\n",
    "\n",
    "Next, remember our definition of the derivative as [the limit of a difference quotient](1. Definition of Derivative.ipynb):\n",
    "\n",
    "$f'(x)=\\lim\\limits_{x \\to x_0} \\frac{f(x)-f(x_0)}{x-x_0}$\n",
    "\n",
    "But look! We've already written that in the first part of our equation...\n",
    "\n",
    "$\\lim\\limits_{x \\to x_0} \\frac{f(x) - f(x_0)}{(x-x_0)} (x-x_0)$\n",
    "\n",
    "So - if we're assuming the function is differentiable (remember we're trying to prove that a differentiable function is continuous...so it's ok to make that assumption) - then we can write it as:\n",
    "\n",
    "$f'(x) \\lim\\limits_{x \\to x_0}(x-x_0)$\n",
    "\n",
    "Finally, taking the limit of the second part as $x$ tends to $x_0$ then that just equals 0:\n",
    "\n",
    "$f'(x).0$\n",
    "\n",
    "Which does, of course equal $0$, proving that a differentiable function is also continuous.\n",
    "\n",
    "$\\lim\\limits_{x \\to x_0} f(x) - f(x_0)$\n",
    "\n",
    "$= \\lim\\limits_{x \\to x_0} \\frac{f(x) - f(x_0)}{(x-x_0)} (x-x_0)$\n",
    "\n",
    "$= f'(x) \\lim\\limits_{x \\to x_0}(x-x_0)$\n",
    "\n",
    "$= f'(x).0$\n",
    "\n",
    "$= 0$\n"
   ]
  }
 ],
 "metadata": {
  "kernelspec": {
   "display_name": "Octave",
   "language": "octave",
   "name": "octave"
  },
  "language_info": {
   "file_extension": ".m",
   "help_links": [
    {
     "text": "MetaKernel Magics",
     "url": "https://github.com/calysto/metakernel/blob/master/metakernel/magics/README.md"
    }
   ],
   "mimetype": "text/x-octave",
   "name": "octave",
   "version": "0.16.0"
  }
 },
 "nbformat": 4,
 "nbformat_minor": 0
}
