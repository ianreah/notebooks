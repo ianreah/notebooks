{
 "cells": [
  {
   "cell_type": "markdown",
   "metadata": {},
   "source": [
    "### General Differentation Formulas\n",
    "\n",
    "* **[Sum rule](2.%20Using%20the%20definition%20to%20derive%20some%20differentiation%20rules.ipynb#Sum-rule):** $(u+v)'=u'+v'$\n",
    "* **[Constant multiple rule](2.%20Using%20the%20definition%20to%20derive%20some%20differentiation%20rules.ipynb#Constant-multiple-rule):** $(cu')=cu'$\n",
    "* **[Product rule](2.%20Using%20the%20definition%20to%20derive%20some%20differentiation%20rules.ipynb#Product-rule):** $(uv)'=u'v+uv'$\n",
    "* **[Quotient rule](2.%20Using%20the%20definition%20to%20derive%20some%20differentiation%20rules.ipynb#Quotient-rule):** $(\\frac{u}{v})'=\\frac{u'v-uv'}{v^2}$\n",
    "* **[Chain rule](2.%20Using%20the%20definition%20to%20derive%20some%20differentiation%20rules.ipynb#Chain-rule):** $u(v(x))'=u'(v(x))v'(x)$\n",
    "\n",
    "\n",
    "### Specific Differentiation Formulas\n",
    "\n",
    "* **[Power rule](2.%20Using%20the%20definition%20to%20derive%20some%20differentiation%20rules.ipynb#Power-rule):** $\\frac{d}{dx}x^n=nx^{n-1}$\n",
    "* **[arcsin](3a.%20Implicit%20Differentiation%20%26%20Inverse%20Functions.ipynb#Example-2:-Derivative-of-arcsin(x):** $\\frac{d}{dx}\\sin^{-1}(x)=\\frac{1}{\\sqrt{1-x^2}}$\n",
    "* **[arctan](3a.%20Implicit%20Differentiation%20%26%20Inverse%20Functions.ipynb#Example:-Derivative-of-arctan(x):** $\\frac{d}{dx}\\tan^{-1}(x)=\\frac{1}{1+x^2}$\n",
    "* **[sin](2.%20Using%20the%20definition%20to%20derive%20some%20differentiation%20rules.ipynb#sin):** $\\frac{d}{dx}\\sin(x)=\\cos(x)$\n",
    "* **[cos](2.%20Using%20the%20definition%20to%20derive%20some%20differentiation%20rules.ipynb#cos):** $\\frac{d}{dx}\\cos(x)=-\\sin(x)$\n",
    "* **[tan](2.%20Using%20the%20definition%20to%20derive%20some%20differentiation%20rules.ipynb#tan):** $\\frac{d}{dx}\\tan(x)=\\sec^2(x)$\n",
    "* **sec:** $\\frac{d}{dx}\\sec(x)=\\sec(x)\\tan(x)$\n",
    "* **e:** $\\frac{d}{dx}e^x=e^x$ ([by definition](4.%20Derivative%20of%20a%5Ex.ipynb#Step-3))\n",
    "* **ln:** $\\frac{d}{dx}\\ln(x)=\\frac{1}{x}$"
   ]
  }
 ],
 "metadata": {
  "anaconda-cloud": {},
  "kernelspec": {
   "display_name": "Octave",
   "language": "octave",
   "name": "octave"
  },
  "language_info": {
   "file_extension": ".m",
   "help_links": [
    {
     "text": "MetaKernel Magics",
     "url": "https://github.com/calysto/metakernel/blob/master/metakernel/magics/README.md"
    }
   ],
   "mimetype": "text/x-octave",
   "name": "octave",
   "version": "0.16.0"
  }
 },
 "nbformat": 4,
 "nbformat_minor": 2
}
