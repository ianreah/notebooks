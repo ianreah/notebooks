{
 "cells": [
  {
   "cell_type": "markdown",
   "metadata": {},
   "source": [
    "**Basis vectors** are a set of vectors which are *linear independent*\n",
    "\n",
    "A set of vectors are **linear independent** if each one vector does not lie in the plane spanned by the others. In other words, it cannot be created by any combination of the other vectors. $\\vec b_3$ is linear independent of $\\vec b_1$ and $\\vec b_2$ if...\n",
    "\n",
    "$\\vec b_3\\ne a_1\\vec b_1 + a_2\\vec b_2$\n",
    "\n",
    "...for all values of $a_1$ and $a_2$.\n",
    "\n",
    "$n$ basis vectors defines an $n$-dimensional space. Vectors within that space can be described as a combination of the basis vectors (i.e., a vector sum of multiples of each basis vector).\n",
    "\n",
    "Basis vectors don't have to be orthogonal and they don't have to be unit vectors ...but it makes the calculations much easier if they are!\n",
    "\n",
    "## Changing Basis\n",
    "\n",
    "**...when the basis vectors are orthogonal**\n",
    "\n",
    "Given vectors:\n",
    "\n",
    "$\\vec{v}=\n",
    "\\begin{bmatrix}\n",
    "    10 \\\\\n",
    "    -5\n",
    "\\end{bmatrix} \\qquad\n",
    "\\vec{b_1}=\n",
    "\\begin{bmatrix}\n",
    "    3 \\\\\n",
    "    4\n",
    "\\end{bmatrix} \\qquad\n",
    "\\vec{b_2}=\n",
    "\\begin{bmatrix}\n",
    "    4 \\\\\n",
    "    -3\n",
    "\\end{bmatrix}$\n",
    "\n",
    "...what is $\\vec v$ in the basis defined by $\\vec b_1$ and $\\vec b_2$?"
   ]
  },
  {
   "cell_type": "code",
   "execution_count": 12,
   "metadata": {
    "collapsed": false
   },
   "outputs": [
    {
     "data": {
      "image/png": "[encoded data removed]",
      "text/plain": [
       "<IPython.core.display.Image object>"
      ]
     },
     "metadata": {},
     "output_type": "display_data"
    }
   ],
   "source": [
    "xs=[10 3 4];\n",
    "ys=[-5 4 -3];\n",
    "\n",
    "quiver(zeros(size(xs)), zeros(size(ys)), xs, ys, 0);\n",
    "set(gca, \"xaxislocation\", \"origin\");\n",
    "set(gca, \"yaxislocation\", \"origin\");\n",
    "set(gca, \"box\", \"off\");"
   ]
  },
  {
   "cell_type": "markdown",
   "metadata": {},
   "source": [
    "First, we need to confirm that $\\vec b_1$ and $\\vec b_2$ are orthogonal. (Remember, they don't have to be but we can do some simpler calculations if they are).\n",
    "\n",
    "If they're orthogonal then the angle between them, $\\theta$, must be $90^\\circ$ and $\\cos 90^\\circ=0$. We've [already shown](1.%20Reasoning%20about%20vector%20dot%20products.ipynb) that the dot product between two vectors can be calculated as:\n",
    "\n",
    "$\\vec{b_1}\\cdot\\vec{b_2}=\\lvert\\vec b_1\\rvert \\lvert\\vec b_2\\rvert\\cos\\theta$\n",
    "\n",
    "...so if $\\cos \\theta=0$ when the vectors are orthogonal, then the dot product must be $0$.\n",
    "\n",
    "$\\vec{b_1}\\cdot\\vec{b_2}=3\\times4+4\\times(-3)=0$ Yay! they're orthogonal.\n",
    "\n",
    "In this case, to change $\\vec v$ into the basis defined by $\\vec b_1$ and $\\vec b_2$ we need the vector projection of $\\vec v$ onto each basis vector.\n",
    "\n",
    "$\\frac{\\vec{v}\\cdot\\vec{b_1}}{\\vec{b_1}\\cdot\\vec{b_1}}\\vec b_1=\\frac{10\\times3+(-5)\\times4}{3\\times3+4\\times4}\\vec b_1$\n",
    "\n",
    "$=\\frac{10}{25}\\vec b_1$\n",
    "\n",
    "$=\\frac{2}{5}\\vec b_1$\n",
    "\n",
    "$\\frac{\\vec{v}\\cdot\\vec{b_2}}{\\vec{b_2}\\cdot\\vec{b_2}}\\vec b_2=\\frac{10\\times4+(-5)\\times(-3)}{4\\times4+(-3)\\times(-3)}\\vec b_2$\n",
    "\n",
    "$=\\frac{55}{25}\\vec b_2$\n",
    "\n",
    "$=\\frac{11}{5}\\vec b_2$\n",
    "\n",
    "So, $\\vec{v_b}=\n",
    "\\begin{bmatrix}\n",
    "    \\frac{2}{5} \\\\\n",
    "    \\frac{11}{5}\n",
    "\\end{bmatrix}$"
   ]
  },
  {
   "cell_type": "markdown",
   "metadata": {},
   "source": [
    "**...when the basis vectors are not orthogonal**\n",
    "\n",
    "Make a matrix where the columns are the new basis vectors. E.g.,...\n",
    "\n",
    "$\\begin{bmatrix}\n",
    "3 & 4 \\\\\n",
    "4 & -3\n",
    "\\end{bmatrix}$\n",
    "\n",
    "...using the same basis vectors as the above example.\n",
    "\n",
    "Find its inverse. (Because it's a $2\\times2$ matrix it's a simple calculation: swap the top-left and bottom-right values, change the signs of the other two values, divide by the determinant).\n",
    "\n",
    "$\\begin{vmatrix}\n",
    "3 & 4 \\\\\n",
    "4 & -3 \n",
    "\\end{vmatrix}=3\\times(-3)-4\\times4=-25$\n",
    "\n",
    "$\\begin{bmatrix}\n",
    "3 & 4 \\\\\n",
    "4 & -3\n",
    "\\end{bmatrix}^{-1}=\n",
    "-\\frac{1}{25}\n",
    "\\begin{bmatrix}\n",
    "-3 & -4 \\\\\n",
    "-4 & 3\n",
    "\\end{bmatrix}$\n",
    "\n",
    "Then multiply this matrix with the original vector to get the vector in the new basis:\n",
    "\n",
    "$-\\frac{1}{25}\n",
    "\\begin{bmatrix}\n",
    "-3 & -4 \\\\\n",
    "-4 & 3\n",
    "\\end{bmatrix}\n",
    "\\begin{bmatrix}\n",
    "10 \\\\\n",
    "-5 \n",
    "\\end{bmatrix}=\n",
    "-\\frac{1}{25}\n",
    "\\begin{bmatrix}\n",
    "(-3) \\times 10 + (-4) \\times (-5) \\\\\n",
    "(-4) \\times 10 + 3 \\times (-5)\n",
    "\\end{bmatrix}=\n",
    "-\\frac{1}{25}\n",
    "\\begin{bmatrix}\n",
    "-10 \\\\\n",
    "-55 \n",
    "\\end{bmatrix}=\n",
    "\\begin{bmatrix}\n",
    "\\frac{-10}{-25} \\\\\n",
    "\\frac{-55}{-25} \n",
    "\\end{bmatrix}=\n",
    "\\begin{bmatrix}\n",
    "\\frac{2}{5} \\\\\n",
    "\\frac{11}{5} \n",
    "\\end{bmatrix}$\n",
    "\n",
    "Note that we used the same example in both cases to show that you get the same answer, but we could only do this because the new basis vectors are orthogonal. The first method won't work if the basis vectors are not orthogonal.\n",
    "\n",
    "For more information about the matrix techniques used here see the later notes about [matrices as vector transformations](3.%20Matrices%20as%20vector%20transforms.ipynb) and [determinants](5.%20Determinants.ipynb)."
   ]
  }
 ],
 "metadata": {
  "kernelspec": {
   "display_name": "Octave",
   "language": "octave",
   "name": "octave"
  },
  "language_info": {
   "file_extension": ".m",
   "help_links": [
    {
     "text": "GNU Octave",
     "url": "https://www.gnu.org/software/octave/support.html"
    },
    {
     "text": "Octave Kernel",
     "url": "https://github.com/Calysto/octave_kernel"
    },
    {
     "text": "MetaKernel Magics",
     "url": "https://github.com/calysto/metakernel/blob/master/metakernel/magics/README.md"
    }
   ],
   "mimetype": "text/x-octave",
   "name": "octave",
   "version": "4.2.1"
  }
 },
 "nbformat": 4,
 "nbformat_minor": 2
}
