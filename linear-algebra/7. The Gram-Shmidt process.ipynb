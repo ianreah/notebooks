{
 "cells": [
  {
   "cell_type": "markdown",
   "metadata": {},
   "source": [
    "If you have a set of basis vectors which are linear independent (you can check this by writing the vectors as columns in a matrix and checking its determinant is not $0$), but aren't orthogonal or all of unit length...\n",
    "\n",
    "$v={v_1, v_2, \\dots, v_n}$\n",
    "\n",
    "...then we know that working with this vector space is going to be a bit trickier than it would be if they were orthonormal.\n",
    "\n",
    "The Gram-Shmidt process provides a way to conver this vector space to an orthonormal one.\n",
    "\n",
    "* Start with $v_1$ and normalise its length: $\\hat e_1=\\frac{v_1}{\\lvert v_1 \\rvert}$\n",
    "* We can now think of $v_2$ as being composed of two components:\n",
    "  * One in the direction of $\\hat e_1$ which we calculate from the projection of $v_2$ onto $e_1$: $\\frac{v_2.\\hat e_1}{\\lvert \\hat e_1 \\rvert}\\hat e_1=\\frac{v_2.\\hat e_1}{1}\\hat e_1=(v_2.\\hat e_1)\\hat e_1$\n",
    "  * and one perpendicular to $\\hat e_1$. We know that this second component is non-zero because the vectors are all linear independent! Let's call it $u_2$\n",
    "  \n",
    "    $v_2=(v_2.\\hat e_1)\\hat e_1+u_2$\n",
    "    \n",
    "    $u_2=v_2-(v_2.\\hat e_1)\\hat e_1$\n",
    "    \n",
    "  * Normalise $u_2$ to get the second orthogonal unit vector, $\\hat e_2=\\frac{u_2}{\\lvert u_2 \\rvert}$\n",
    "* Now we know that $v_3$ can't be defined as a combination of $\\hat e_1$ and $\\hat e_2$. (It can't lie on the plane defined by the first two vectors otherwise it wouldn't be linear independent.) But we can project $v_3$ onto that plane and define it as a combination of $\\hat e_1$ and $\\hat e_2$ and some other orthogonal vector, say, $u_3$.\n",
    "\n",
    "    $v_3=(v_3.\\hat e_1)\\hat e_1+(v_3.\\hat e_2)\\hat e_2+u_3$\n",
    "  \n",
    "    $u_3=v_3-(v_3.\\hat e_1)\\hat e_1+(v_3.\\hat e_2)\\hat e_2$\n",
    "    \n",
    "* Normalise $u_3$ to get the third orthogonal unit vector, $\\hat e_3=\\frac{u_3}{\\lvert u_3 \\rvert}$\n",
    "* Continue for each other vector..."
   ]
  }
 ],
 "metadata": {
  "kernelspec": {
   "display_name": "Octave",
   "language": "octave",
   "name": "octave"
  },
  "language_info": {
   "file_extension": ".m",
   "help_links": [
    {
     "text": "GNU Octave",
     "url": "https://www.gnu.org/software/octave/support.html"
    },
    {
     "text": "Octave Kernel",
     "url": "https://github.com/Calysto/octave_kernel"
    },
    {
     "text": "MetaKernel Magics",
     "url": "https://github.com/calysto/metakernel/blob/master/metakernel/magics/README.md"
    }
   ],
   "mimetype": "text/x-octave",
   "name": "octave",
   "version": "4.2.1"
  }
 },
 "nbformat": 4,
 "nbformat_minor": 2
}
